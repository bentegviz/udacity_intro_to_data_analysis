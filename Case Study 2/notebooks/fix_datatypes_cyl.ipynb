{
  "nbformat": 4,
  "nbformat_minor": 0,
  "metadata": {
    "kernelspec": {
      "display_name": "Python 3",
      "language": "python",
      "name": "python3"
    },
    "language_info": {
      "codemirror_mode": {
        "name": "ipython",
        "version": 3
      },
      "file_extension": ".py",
      "mimetype": "text/x-python",
      "name": "python",
      "nbconvert_exporter": "python",
      "pygments_lexer": "ipython3",
      "version": "3.6.3"
    },
    "colab": {
      "name": "fix_datatypes_cyl.ipynb",
      "provenance": []
    }
  },
  "cells": [
    {
      "cell_type": "markdown",
      "metadata": {
        "id": "E40qYHQSrxGB"
      },
      "source": [
        "# Fixing `cyl` Data Type\n",
        "- 2008: extract int from string\n",
        "- 2018: convert float to int\n",
        "\n",
        "Load datasets `data_08_v2.csv` and `data_18_v2.csv`. You should've created these data files in the previous section: *Filter, Drop Nulls, Dedupe*."
      ]
    },
    {
      "cell_type": "code",
      "metadata": {
        "id": "In--WIugrxGD"
      },
      "source": [
        "import pandas as pd"
      ],
      "execution_count": 1,
      "outputs": []
    },
    {
      "cell_type": "code",
      "metadata": {
        "id": "Xqh09pUXrxGE"
      },
      "source": [
        "# dataset url\n",
        "url_08 = ('https://raw.githubusercontent.com/bentegviz/udacity_intro_to_data_analysis/main/Case%20Study%202/data/processed/all_alpha_08.csv')\n",
        "url_18 = ('https://raw.githubusercontent.com/bentegviz/udacity_intro_to_data_analysis/main/Case%20Study%202/data/processed/all_alpha_18.csv')"
      ],
      "execution_count": 2,
      "outputs": []
    },
    {
      "cell_type": "code",
      "metadata": {
        "colab": {
          "base_uri": "https://localhost:8080/"
        },
        "id": "dvl7pNHTrxGF",
        "outputId": "8da8e2b2-86c9-4ef7-a674-8e165abd28b7"
      },
      "source": [
        "# csv to dataset\n",
        "df_08 = pd.read_csv(url_08)\n",
        "df_18 = pd.read_csv(url_18)\n",
        "print('Load CSV Complete')"
      ],
      "execution_count": 3,
      "outputs": [
        {
          "output_type": "stream",
          "text": [
            "Load CSV Complete\n"
          ],
          "name": "stdout"
        }
      ]
    },
    {
      "cell_type": "code",
      "metadata": {
        "colab": {
          "base_uri": "https://localhost:8080/"
        },
        "id": "C3zjO5r5rxGH",
        "outputId": "eb928444-c94b-48fd-94bc-b49654e4ee64"
      },
      "source": [
        "# check value counts for the 2008 cyl column\n",
        "df_08['Cyl'].value_counts()"
      ],
      "execution_count": 5,
      "outputs": [
        {
          "output_type": "execute_result",
          "data": {
            "text/plain": [
              "(6 cyl)     864\n",
              "(4 cyl)     600\n",
              "(8 cyl)     533\n",
              "(5 cyl)     113\n",
              "(12 cyl)     60\n",
              "(10 cyl)     29\n",
              "(2 cyl)       4\n",
              "(16 cyl)      2\n",
              "Name: Cyl, dtype: int64"
            ]
          },
          "metadata": {
            "tags": []
          },
          "execution_count": 5
        }
      ]
    },
    {
      "cell_type": "code",
      "metadata": {
        "colab": {
          "base_uri": "https://localhost:8080/"
        },
        "id": "zHqCF6fctir1",
        "outputId": "68292d44-5032-4775-a37d-72b52e56a636"
      },
      "source": [
        "# view missing value count for each feature in 2008\n",
        "df_08.isnull().sum()"
      ],
      "execution_count": 7,
      "outputs": [
        {
          "output_type": "execute_result",
          "data": {
            "text/plain": [
              "Model                     0\n",
              "Displ                     0\n",
              "Cyl                     199\n",
              "Trans                   199\n",
              "Drive                    93\n",
              "Fuel                      0\n",
              "Sales Area                0\n",
              "Stnd                      0\n",
              "Underhood ID              0\n",
              "Veh Class                 0\n",
              "Air Pollution Score       0\n",
              "FE Calc Appr            199\n",
              "City MPG                199\n",
              "Hwy MPG                 199\n",
              "Cmb MPG                 199\n",
              "Unadj Cmb MPG           199\n",
              "Greenhouse Gas Score    199\n",
              "SmartWay                  0\n",
              "dtype: int64"
            ]
          },
          "metadata": {
            "tags": []
          },
          "execution_count": 7
        }
      ]
    },
    {
      "cell_type": "code",
      "metadata": {
        "colab": {
          "base_uri": "https://localhost:8080/"
        },
        "id": "5gPNPAsktkHp",
        "outputId": "eea92aa0-0609-4a76-a723-59d300d61207"
      },
      "source": [
        "# view missing value count for each feature in 2018\n",
        "df_18.isnull().sum()"
      ],
      "execution_count": 8,
      "outputs": [
        {
          "output_type": "execute_result",
          "data": {
            "text/plain": [
              "Model                   0\n",
              "Displ                   2\n",
              "Cyl                     2\n",
              "Trans                   0\n",
              "Drive                   0\n",
              "Fuel                    0\n",
              "Cert Region             0\n",
              "Stnd                    0\n",
              "Stnd Description        0\n",
              "Underhood ID            0\n",
              "Veh Class               0\n",
              "Air Pollution Score     0\n",
              "City MPG                0\n",
              "Hwy MPG                 0\n",
              "Cmb MPG                 0\n",
              "Greenhouse Gas Score    0\n",
              "SmartWay                0\n",
              "Comb CO2                0\n",
              "dtype: int64"
            ]
          },
          "metadata": {
            "tags": []
          },
          "execution_count": 8
        }
      ]
    },
    {
      "cell_type": "code",
      "metadata": {
        "id": "QbbGfEPGtpnR"
      },
      "source": [
        "# drop rows with any null values in both datasets\n",
        "df_08.dropna(inplace=True)\n",
        "df_18.dropna(inplace=True)"
      ],
      "execution_count": 9,
      "outputs": []
    },
    {
      "cell_type": "code",
      "metadata": {
        "colab": {
          "base_uri": "https://localhost:8080/"
        },
        "id": "QOQljWtTtpV3",
        "outputId": "69b4f3d9-54b0-48d9-a51d-a484aa0f04ed"
      },
      "source": [
        "# checks if any of columns in 2008 have null values - should print False\n",
        "df_08.isnull().sum().any()"
      ],
      "execution_count": 10,
      "outputs": [
        {
          "output_type": "execute_result",
          "data": {
            "text/plain": [
              "False"
            ]
          },
          "metadata": {
            "tags": []
          },
          "execution_count": 10
        }
      ]
    },
    {
      "cell_type": "code",
      "metadata": {
        "colab": {
          "base_uri": "https://localhost:8080/"
        },
        "id": "8J3m-htBtwjM",
        "outputId": "7d3b384b-34a4-47d0-c401-5e1c23537b35"
      },
      "source": [
        "# checks if any of columns in 2018 have null values - should print False\n",
        "df_18.isnull().sum().any()"
      ],
      "execution_count": 11,
      "outputs": [
        {
          "output_type": "execute_result",
          "data": {
            "text/plain": [
              "False"
            ]
          },
          "metadata": {
            "tags": []
          },
          "execution_count": 11
        }
      ]
    },
    {
      "cell_type": "code",
      "metadata": {
        "colab": {
          "base_uri": "https://localhost:8080/"
        },
        "id": "biJOE_MNt11J",
        "outputId": "79cb5486-f4b4-4777-9643-67100261a3a1"
      },
      "source": [
        "# print number of duplicates in 2008 and 2018 datasets\n",
        "print(df_08.duplicated().sum())\n",
        "print(df_18.duplicated().sum())"
      ],
      "execution_count": 12,
      "outputs": [
        {
          "output_type": "stream",
          "text": [
            "6\n",
            "0\n"
          ],
          "name": "stdout"
        }
      ]
    },
    {
      "cell_type": "code",
      "metadata": {
        "id": "6M4YGKRTuAHn"
      },
      "source": [
        "# drop duplicates in both datasets\n",
        "df_08.drop_duplicates(inplace=True)\n",
        "df_18.drop_duplicates(inplace=True)"
      ],
      "execution_count": 13,
      "outputs": []
    },
    {
      "cell_type": "code",
      "metadata": {
        "colab": {
          "base_uri": "https://localhost:8080/"
        },
        "id": "MUDOj004uDEN",
        "outputId": "92c9e1ab-ce86-4f99-9728-7d909f92a44d"
      },
      "source": [
        "# print number of duplicates in 2008 and 2018 datasets\n",
        "print(df_08.duplicated().sum())\n",
        "print(df_18.duplicated().sum())"
      ],
      "execution_count": 14,
      "outputs": [
        {
          "output_type": "stream",
          "text": [
            "0\n",
            "0\n"
          ],
          "name": "stdout"
        }
      ]
    },
    {
      "cell_type": "markdown",
      "metadata": {
        "id": "d2pnvf99rxGH"
      },
      "source": [
        "Read [this](https://stackoverflow.com/questions/35376387/extract-int-from-string-in-pandas) to help you extract ints from strings in Pandas for the next step."
      ]
    },
    {
      "cell_type": "markdown",
      "metadata": {
        "id": "1SMnFiw9w6wS"
      },
      "source": [
        "Fix Cyl to Int"
      ]
    },
    {
      "cell_type": "code",
      "metadata": {
        "id": "FqtMK8PYrxGI"
      },
      "source": [
        "# Extract int from strings in the 2008 cyl column\n",
        "\n",
        "# df['B'].str.extract('(\\d+)').astype(int)\n",
        "\n",
        "df_08['Cyl'] = df_08['Cyl'].str.extract('(\\d+)').astype(int)"
      ],
      "execution_count": 15,
      "outputs": []
    },
    {
      "cell_type": "code",
      "metadata": {
        "colab": {
          "base_uri": "https://localhost:8080/"
        },
        "id": "6qPvAmEprxGI",
        "outputId": "e4129053-887c-4d0b-d8cb-a96bf3895a84"
      },
      "source": [
        "# Check value counts for 2008 cyl column again to confirm the change\n",
        "df_08['Cyl'].value_counts()"
      ],
      "execution_count": 16,
      "outputs": [
        {
          "output_type": "execute_result",
          "data": {
            "text/plain": [
              "6     864\n",
              "4     600\n",
              "8     527\n",
              "5     113\n",
              "12     60\n",
              "10     29\n",
              "2       4\n",
              "16      2\n",
              "Name: Cyl, dtype: int64"
            ]
          },
          "metadata": {
            "tags": []
          },
          "execution_count": 16
        }
      ]
    },
    {
      "cell_type": "code",
      "metadata": {
        "id": "AOxFeAtKrxGJ"
      },
      "source": [
        "# convert 2018 cyl column to int\n",
        "df_18['Cyl'] = df_18['Cyl'].astype('int64')"
      ],
      "execution_count": 18,
      "outputs": []
    },
    {
      "cell_type": "code",
      "metadata": {
        "colab": {
          "base_uri": "https://localhost:8080/"
        },
        "id": "vC9vinKcubsq",
        "outputId": "2fa63566-e264-4064-fbf9-5899b0e7b88f"
      },
      "source": [
        "df_18['Cyl'].value_counts()"
      ],
      "execution_count": 19,
      "outputs": [
        {
          "output_type": "execute_result",
          "data": {
            "text/plain": [
              "4     736\n",
              "6     504\n",
              "8     309\n",
              "3      36\n",
              "12     18\n",
              "5       4\n",
              "16      2\n",
              "Name: Cyl, dtype: int64"
            ]
          },
          "metadata": {
            "tags": []
          },
          "execution_count": 19
        }
      ]
    },
    {
      "cell_type": "markdown",
      "metadata": {
        "id": "d4KkmeY8w-rR"
      },
      "source": [
        "Fix Air Pollution to Float"
      ]
    },
    {
      "cell_type": "code",
      "metadata": {
        "colab": {
          "base_uri": "https://localhost:8080/"
        },
        "id": "BGK7qHAbxIl5",
        "outputId": "71a2a417-cc78-4541-877c-aaa30d67a4d9"
      },
      "source": [
        "print(df_08['Air Pollution Score'].value_counts())\n",
        "print(df_08['Air Pollution Score'].value_counts())\n"
      ],
      "execution_count": 21,
      "outputs": [
        {
          "output_type": "stream",
          "text": [
            "6      1460\n",
            "7       518\n",
            "9.5      80\n",
            "6/6      32\n",
            "3        31\n",
            "9        23\n",
            "3/3      21\n",
            "8        15\n",
            "7/7      12\n",
            "1         6\n",
            "6/4       1\n",
            "Name: Air Pollution Score, dtype: int64\n",
            "6      1460\n",
            "7       518\n",
            "9.5      80\n",
            "6/6      32\n",
            "3        31\n",
            "9        23\n",
            "3/3      21\n",
            "8        15\n",
            "7/7      12\n",
            "1         6\n",
            "6/4       1\n",
            "Name: Air Pollution Score, dtype: int64\n"
          ],
          "name": "stdout"
        }
      ]
    },
    {
      "cell_type": "code",
      "metadata": {
        "id": "l3t8gUNNxrtP"
      },
      "source": [
        "# Change Air Pollition Score to Float\n",
        "df_08['Air Pollution Score'] = df_08['Air Pollution Score'].str.extract('(\\d+)').astype(float)\n",
        "df_18['Air Pollution Score'] = df_18['Air Pollution Score'].astype('float')\n"
      ],
      "execution_count": 23,
      "outputs": []
    },
    {
      "cell_type": "code",
      "metadata": {
        "colab": {
          "base_uri": "https://localhost:8080/"
        },
        "id": "oqz3B0W0yVBS",
        "outputId": "780fd050-fa6c-498c-b8af-f95123964398"
      },
      "source": [
        "print(df_08['Air Pollution Score'].dtypes)\n",
        "print(df_18['Air Pollution Score'].dtypes)"
      ],
      "execution_count": 26,
      "outputs": [
        {
          "output_type": "stream",
          "text": [
            "float64\n",
            "float64\n"
          ],
          "name": "stdout"
        }
      ]
    },
    {
      "cell_type": "markdown",
      "metadata": {
        "id": "EY1PAdcsxCuD"
      },
      "source": [
        "Fix MPG to Float"
      ]
    },
    {
      "cell_type": "code",
      "metadata": {
        "id": "ZY-laGhpxTPW"
      },
      "source": [
        "# Change Air Pollition Score to Float\n",
        "df_08['City MPG'] = df_08['City MPG'].str.extract('(\\d+)').astype(float)\n",
        "df_08['Hwy MPG'] = df_08['Hwy MPG'].str.extract('(\\d+)').astype(float)\n",
        "df_08['Cmb MPG'] = df_08['Cmb MPG'].str.extract('(\\d+)').astype(float)\n",
        "\n",
        "df_18['City MPG'] = df_18['City MPG'].str.extract('(\\d+)').astype(float)\n",
        "df_18['Hwy MPG'] = df_18['Hwy MPG'].str.extract('(\\d+)').astype(float)\n",
        "df_18['Cmb MPG'] = df_18['Cmb MPG'].str.extract('(\\d+)').astype(float)"
      ],
      "execution_count": 29,
      "outputs": []
    },
    {
      "cell_type": "code",
      "metadata": {
        "colab": {
          "base_uri": "https://localhost:8080/"
        },
        "id": "7E8KFhTuzflC",
        "outputId": "d29e602b-5cae-45db-b98c-95fe5f42826a"
      },
      "source": [
        "print(df_08.dtypes)\n",
        "print(df_18.dtypes)"
      ],
      "execution_count": 30,
      "outputs": [
        {
          "output_type": "stream",
          "text": [
            "Model                    object\n",
            "Displ                   float64\n",
            "Cyl                       int64\n",
            "Trans                    object\n",
            "Drive                    object\n",
            "Fuel                     object\n",
            "Sales Area               object\n",
            "Stnd                     object\n",
            "Underhood ID             object\n",
            "Veh Class                object\n",
            "Air Pollution Score     float64\n",
            "FE Calc Appr             object\n",
            "City MPG                float64\n",
            "Hwy MPG                 float64\n",
            "Cmb MPG                 float64\n",
            "Unadj Cmb MPG           float64\n",
            "Greenhouse Gas Score     object\n",
            "SmartWay                 object\n",
            "dtype: object\n",
            "Model                    object\n",
            "Displ                   float64\n",
            "Cyl                       int64\n",
            "Trans                    object\n",
            "Drive                    object\n",
            "Fuel                     object\n",
            "Cert Region              object\n",
            "Stnd                     object\n",
            "Stnd Description         object\n",
            "Underhood ID             object\n",
            "Veh Class                object\n",
            "Air Pollution Score     float64\n",
            "City MPG                float64\n",
            "Hwy MPG                 float64\n",
            "Cmb MPG                 float64\n",
            "Greenhouse Gas Score      int64\n",
            "SmartWay                 object\n",
            "Comb CO2                 object\n",
            "dtype: object\n"
          ],
          "name": "stdout"
        }
      ]
    },
    {
      "cell_type": "markdown",
      "metadata": {
        "id": "xjiGNp5exCfd"
      },
      "source": [
        "Fix Greenhouse Gas to Int"
      ]
    },
    {
      "cell_type": "code",
      "metadata": {
        "colab": {
          "base_uri": "https://localhost:8080/",
          "height": 435
        },
        "id": "bGYIG4hMxJNf",
        "outputId": "196f905d-638d-41df-dc3e-9e44ad669fdc"
      },
      "source": [
        "# Extract int from strings in the 2008 cyl column\n",
        "\n",
        "# df['B'].str.extract('(\\d+)').astype(int)\n",
        "\n",
        "df_08['Greenhouse Gas Score'] = df_08['Greenhouse Gas Score'].str.extract('(\\d+)').astype(int)\n",
        "df_18['Greenhouse Gas Score'] = df_18['Greenhouse Gas Score'].str.extract('(\\d+)').astype(int)"
      ],
      "execution_count": 33,
      "outputs": [
        {
          "output_type": "error",
          "ename": "AttributeError",
          "evalue": "ignored",
          "traceback": [
            "\u001b[0;31m---------------------------------------------------------------------------\u001b[0m",
            "\u001b[0;31mAttributeError\u001b[0m                            Traceback (most recent call last)",
            "\u001b[0;32m<ipython-input-33-3462fbd89d5a>\u001b[0m in \u001b[0;36m<module>\u001b[0;34m()\u001b[0m\n\u001b[1;32m      4\u001b[0m \u001b[0;34m\u001b[0m\u001b[0m\n\u001b[1;32m      5\u001b[0m \u001b[0;31m#df_08['Greenhouse Gas Score'] = df_08['Greenhouse Gas Score'].str.extract('(\\d+)').astype(int)\u001b[0m\u001b[0;34m\u001b[0m\u001b[0;34m\u001b[0m\u001b[0;34m\u001b[0m\u001b[0m\n\u001b[0;32m----> 6\u001b[0;31m \u001b[0mdf_18\u001b[0m\u001b[0;34m[\u001b[0m\u001b[0;34m'Greenhouse Gas Score'\u001b[0m\u001b[0;34m]\u001b[0m \u001b[0;34m=\u001b[0m \u001b[0mdf_18\u001b[0m\u001b[0;34m[\u001b[0m\u001b[0;34m'Greenhouse Gas Score'\u001b[0m\u001b[0;34m]\u001b[0m\u001b[0;34m.\u001b[0m\u001b[0mstr\u001b[0m\u001b[0;34m.\u001b[0m\u001b[0mextract\u001b[0m\u001b[0;34m(\u001b[0m\u001b[0;34m'(\\d+)'\u001b[0m\u001b[0;34m)\u001b[0m\u001b[0;34m.\u001b[0m\u001b[0mastype\u001b[0m\u001b[0;34m(\u001b[0m\u001b[0mint\u001b[0m\u001b[0;34m)\u001b[0m\u001b[0;34m\u001b[0m\u001b[0;34m\u001b[0m\u001b[0m\n\u001b[0m",
            "\u001b[0;32m/usr/local/lib/python3.7/dist-packages/pandas/core/generic.py\u001b[0m in \u001b[0;36m__getattr__\u001b[0;34m(self, name)\u001b[0m\n\u001b[1;32m   5135\u001b[0m             \u001b[0;32mor\u001b[0m \u001b[0mname\u001b[0m \u001b[0;32min\u001b[0m \u001b[0mself\u001b[0m\u001b[0;34m.\u001b[0m\u001b[0m_accessors\u001b[0m\u001b[0;34m\u001b[0m\u001b[0;34m\u001b[0m\u001b[0m\n\u001b[1;32m   5136\u001b[0m         ):\n\u001b[0;32m-> 5137\u001b[0;31m             \u001b[0;32mreturn\u001b[0m \u001b[0mobject\u001b[0m\u001b[0;34m.\u001b[0m\u001b[0m__getattribute__\u001b[0m\u001b[0;34m(\u001b[0m\u001b[0mself\u001b[0m\u001b[0;34m,\u001b[0m \u001b[0mname\u001b[0m\u001b[0;34m)\u001b[0m\u001b[0;34m\u001b[0m\u001b[0;34m\u001b[0m\u001b[0m\n\u001b[0m\u001b[1;32m   5138\u001b[0m         \u001b[0;32melse\u001b[0m\u001b[0;34m:\u001b[0m\u001b[0;34m\u001b[0m\u001b[0;34m\u001b[0m\u001b[0m\n\u001b[1;32m   5139\u001b[0m             \u001b[0;32mif\u001b[0m \u001b[0mself\u001b[0m\u001b[0;34m.\u001b[0m\u001b[0m_info_axis\u001b[0m\u001b[0;34m.\u001b[0m\u001b[0m_can_hold_identifiers_and_holds_name\u001b[0m\u001b[0;34m(\u001b[0m\u001b[0mname\u001b[0m\u001b[0;34m)\u001b[0m\u001b[0;34m:\u001b[0m\u001b[0;34m\u001b[0m\u001b[0;34m\u001b[0m\u001b[0m\n",
            "\u001b[0;32m/usr/local/lib/python3.7/dist-packages/pandas/core/accessor.py\u001b[0m in \u001b[0;36m__get__\u001b[0;34m(self, obj, cls)\u001b[0m\n\u001b[1;32m    185\u001b[0m             \u001b[0;31m# we're accessing the attribute of the class, i.e., Dataset.geo\u001b[0m\u001b[0;34m\u001b[0m\u001b[0;34m\u001b[0m\u001b[0;34m\u001b[0m\u001b[0m\n\u001b[1;32m    186\u001b[0m             \u001b[0;32mreturn\u001b[0m \u001b[0mself\u001b[0m\u001b[0;34m.\u001b[0m\u001b[0m_accessor\u001b[0m\u001b[0;34m\u001b[0m\u001b[0;34m\u001b[0m\u001b[0m\n\u001b[0;32m--> 187\u001b[0;31m         \u001b[0maccessor_obj\u001b[0m \u001b[0;34m=\u001b[0m \u001b[0mself\u001b[0m\u001b[0;34m.\u001b[0m\u001b[0m_accessor\u001b[0m\u001b[0;34m(\u001b[0m\u001b[0mobj\u001b[0m\u001b[0;34m)\u001b[0m\u001b[0;34m\u001b[0m\u001b[0;34m\u001b[0m\u001b[0m\n\u001b[0m\u001b[1;32m    188\u001b[0m         \u001b[0;31m# Replace the property with the accessor object. Inspired by:\u001b[0m\u001b[0;34m\u001b[0m\u001b[0;34m\u001b[0m\u001b[0;34m\u001b[0m\u001b[0m\n\u001b[1;32m    189\u001b[0m         \u001b[0;31m# https://www.pydanny.com/cached-property.html\u001b[0m\u001b[0;34m\u001b[0m\u001b[0;34m\u001b[0m\u001b[0;34m\u001b[0m\u001b[0m\n",
            "\u001b[0;32m/usr/local/lib/python3.7/dist-packages/pandas/core/strings.py\u001b[0m in \u001b[0;36m__init__\u001b[0;34m(self, data)\u001b[0m\n\u001b[1;32m   2098\u001b[0m \u001b[0;34m\u001b[0m\u001b[0m\n\u001b[1;32m   2099\u001b[0m     \u001b[0;32mdef\u001b[0m \u001b[0m__init__\u001b[0m\u001b[0;34m(\u001b[0m\u001b[0mself\u001b[0m\u001b[0;34m,\u001b[0m \u001b[0mdata\u001b[0m\u001b[0;34m)\u001b[0m\u001b[0;34m:\u001b[0m\u001b[0;34m\u001b[0m\u001b[0;34m\u001b[0m\u001b[0m\n\u001b[0;32m-> 2100\u001b[0;31m         \u001b[0mself\u001b[0m\u001b[0;34m.\u001b[0m\u001b[0m_inferred_dtype\u001b[0m \u001b[0;34m=\u001b[0m \u001b[0mself\u001b[0m\u001b[0;34m.\u001b[0m\u001b[0m_validate\u001b[0m\u001b[0;34m(\u001b[0m\u001b[0mdata\u001b[0m\u001b[0;34m)\u001b[0m\u001b[0;34m\u001b[0m\u001b[0;34m\u001b[0m\u001b[0m\n\u001b[0m\u001b[1;32m   2101\u001b[0m         \u001b[0mself\u001b[0m\u001b[0;34m.\u001b[0m\u001b[0m_is_categorical\u001b[0m \u001b[0;34m=\u001b[0m \u001b[0mis_categorical_dtype\u001b[0m\u001b[0;34m(\u001b[0m\u001b[0mdata\u001b[0m\u001b[0;34m.\u001b[0m\u001b[0mdtype\u001b[0m\u001b[0;34m)\u001b[0m\u001b[0;34m\u001b[0m\u001b[0;34m\u001b[0m\u001b[0m\n\u001b[1;32m   2102\u001b[0m         \u001b[0mself\u001b[0m\u001b[0;34m.\u001b[0m\u001b[0m_is_string\u001b[0m \u001b[0;34m=\u001b[0m \u001b[0mdata\u001b[0m\u001b[0;34m.\u001b[0m\u001b[0mdtype\u001b[0m\u001b[0;34m.\u001b[0m\u001b[0mname\u001b[0m \u001b[0;34m==\u001b[0m \u001b[0;34m\"string\"\u001b[0m\u001b[0;34m\u001b[0m\u001b[0;34m\u001b[0m\u001b[0m\n",
            "\u001b[0;32m/usr/local/lib/python3.7/dist-packages/pandas/core/strings.py\u001b[0m in \u001b[0;36m_validate\u001b[0;34m(data)\u001b[0m\n\u001b[1;32m   2155\u001b[0m \u001b[0;34m\u001b[0m\u001b[0m\n\u001b[1;32m   2156\u001b[0m         \u001b[0;32mif\u001b[0m \u001b[0minferred_dtype\u001b[0m \u001b[0;32mnot\u001b[0m \u001b[0;32min\u001b[0m \u001b[0mallowed_types\u001b[0m\u001b[0;34m:\u001b[0m\u001b[0;34m\u001b[0m\u001b[0;34m\u001b[0m\u001b[0m\n\u001b[0;32m-> 2157\u001b[0;31m             \u001b[0;32mraise\u001b[0m \u001b[0mAttributeError\u001b[0m\u001b[0;34m(\u001b[0m\u001b[0;34m\"Can only use .str accessor with string values!\"\u001b[0m\u001b[0;34m)\u001b[0m\u001b[0;34m\u001b[0m\u001b[0;34m\u001b[0m\u001b[0m\n\u001b[0m\u001b[1;32m   2158\u001b[0m         \u001b[0;32mreturn\u001b[0m \u001b[0minferred_dtype\u001b[0m\u001b[0;34m\u001b[0m\u001b[0;34m\u001b[0m\u001b[0m\n\u001b[1;32m   2159\u001b[0m \u001b[0;34m\u001b[0m\u001b[0m\n",
            "\u001b[0;31mAttributeError\u001b[0m: Can only use .str accessor with string values!"
          ]
        }
      ]
    },
    {
      "cell_type": "code",
      "metadata": {
        "colab": {
          "base_uri": "https://localhost:8080/"
        },
        "id": "9mQQKo2Iz-DP",
        "outputId": "34f15cd8-aa0d-4565-cb13-3d056f78ded2"
      },
      "source": [
        "print(df_08['Greenhouse Gas Score'].dtypes)\n",
        "print(df_18['Greenhouse Gas Score'].dtypes)"
      ],
      "execution_count": 34,
      "outputs": [
        {
          "output_type": "stream",
          "text": [
            "int64\n",
            "int64\n"
          ],
          "name": "stdout"
        }
      ]
    },
    {
      "cell_type": "markdown",
      "metadata": {
        "id": "Q2syAVxVvcnl"
      },
      "source": [
        "Export CSV"
      ]
    },
    {
      "cell_type": "code",
      "metadata": {
        "colab": {
          "base_uri": "https://localhost:8080/",
          "height": 17
        },
        "id": "m_gApE34rxGK",
        "outputId": "3f966331-7649-42f2-e342-083d804f4dab"
      },
      "source": [
        "from google.colab import files\n",
        "df_08.to_csv('data_08_v3.csv', index=False)\n",
        "files.download('data_08_v3.csv')"
      ],
      "execution_count": 35,
      "outputs": [
        {
          "output_type": "display_data",
          "data": {
            "application/javascript": [
              "\n",
              "    async function download(id, filename, size) {\n",
              "      if (!google.colab.kernel.accessAllowed) {\n",
              "        return;\n",
              "      }\n",
              "      const div = document.createElement('div');\n",
              "      const label = document.createElement('label');\n",
              "      label.textContent = `Downloading \"${filename}\": `;\n",
              "      div.appendChild(label);\n",
              "      const progress = document.createElement('progress');\n",
              "      progress.max = size;\n",
              "      div.appendChild(progress);\n",
              "      document.body.appendChild(div);\n",
              "\n",
              "      const buffers = [];\n",
              "      let downloaded = 0;\n",
              "\n",
              "      const channel = await google.colab.kernel.comms.open(id);\n",
              "      // Send a message to notify the kernel that we're ready.\n",
              "      channel.send({})\n",
              "\n",
              "      for await (const message of channel.messages) {\n",
              "        // Send a message to notify the kernel that we're ready.\n",
              "        channel.send({})\n",
              "        if (message.buffers) {\n",
              "          for (const buffer of message.buffers) {\n",
              "            buffers.push(buffer);\n",
              "            downloaded += buffer.byteLength;\n",
              "            progress.value = downloaded;\n",
              "          }\n",
              "        }\n",
              "      }\n",
              "      const blob = new Blob(buffers, {type: 'application/binary'});\n",
              "      const a = document.createElement('a');\n",
              "      a.href = window.URL.createObjectURL(blob);\n",
              "      a.download = filename;\n",
              "      div.appendChild(a);\n",
              "      a.click();\n",
              "      div.remove();\n",
              "    }\n",
              "  "
            ],
            "text/plain": [
              "<IPython.core.display.Javascript object>"
            ]
          },
          "metadata": {
            "tags": []
          }
        },
        {
          "output_type": "display_data",
          "data": {
            "application/javascript": [
              "download(\"download_e4c60793-a854-4b73-9be1-339389c7666f\", \"data_08_v3.csv\", 233644)"
            ],
            "text/plain": [
              "<IPython.core.display.Javascript object>"
            ]
          },
          "metadata": {
            "tags": []
          }
        }
      ]
    },
    {
      "cell_type": "code",
      "metadata": {
        "colab": {
          "base_uri": "https://localhost:8080/",
          "height": 17
        },
        "id": "hL4KAANxvxRu",
        "outputId": "3356ad9e-7003-4cd6-e56b-0b43c4fbe717"
      },
      "source": [
        "df_18.to_csv('data_18_v3.csv', index=False)\n",
        "files.download('data_18_v3.csv')"
      ],
      "execution_count": 36,
      "outputs": [
        {
          "output_type": "display_data",
          "data": {
            "application/javascript": [
              "\n",
              "    async function download(id, filename, size) {\n",
              "      if (!google.colab.kernel.accessAllowed) {\n",
              "        return;\n",
              "      }\n",
              "      const div = document.createElement('div');\n",
              "      const label = document.createElement('label');\n",
              "      label.textContent = `Downloading \"${filename}\": `;\n",
              "      div.appendChild(label);\n",
              "      const progress = document.createElement('progress');\n",
              "      progress.max = size;\n",
              "      div.appendChild(progress);\n",
              "      document.body.appendChild(div);\n",
              "\n",
              "      const buffers = [];\n",
              "      let downloaded = 0;\n",
              "\n",
              "      const channel = await google.colab.kernel.comms.open(id);\n",
              "      // Send a message to notify the kernel that we're ready.\n",
              "      channel.send({})\n",
              "\n",
              "      for await (const message of channel.messages) {\n",
              "        // Send a message to notify the kernel that we're ready.\n",
              "        channel.send({})\n",
              "        if (message.buffers) {\n",
              "          for (const buffer of message.buffers) {\n",
              "            buffers.push(buffer);\n",
              "            downloaded += buffer.byteLength;\n",
              "            progress.value = downloaded;\n",
              "          }\n",
              "        }\n",
              "      }\n",
              "      const blob = new Blob(buffers, {type: 'application/binary'});\n",
              "      const a = document.createElement('a');\n",
              "      a.href = window.URL.createObjectURL(blob);\n",
              "      a.download = filename;\n",
              "      div.appendChild(a);\n",
              "      a.click();\n",
              "      div.remove();\n",
              "    }\n",
              "  "
            ],
            "text/plain": [
              "<IPython.core.display.Javascript object>"
            ]
          },
          "metadata": {
            "tags": []
          }
        },
        {
          "output_type": "display_data",
          "data": {
            "application/javascript": [
              "download(\"download_efc42541-31fb-4047-b270-ce2b38d9b476\", \"data_18_v3.csv\", 213020)"
            ],
            "text/plain": [
              "<IPython.core.display.Javascript object>"
            ]
          },
          "metadata": {
            "tags": []
          }
        }
      ]
    }
  ]
}