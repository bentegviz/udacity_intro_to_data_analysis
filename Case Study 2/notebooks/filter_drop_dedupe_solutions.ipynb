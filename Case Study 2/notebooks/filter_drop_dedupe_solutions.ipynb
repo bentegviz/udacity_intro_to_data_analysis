{
  "nbformat": 4,
  "nbformat_minor": 0,
  "metadata": {
    "kernelspec": {
      "display_name": "Python 3",
      "language": "python",
      "name": "python3"
    },
    "language_info": {
      "codemirror_mode": {
        "name": "ipython",
        "version": 3
      },
      "file_extension": ".py",
      "mimetype": "text/x-python",
      "name": "python",
      "nbconvert_exporter": "python",
      "pygments_lexer": "ipython3",
      "version": "3.8.10"
    },
    "colab": {
      "name": "filter_drop_dedupe_solutions.ipynb",
      "provenance": [],
      "toc_visible": true
    }
  },
  "cells": [
    {
      "cell_type": "markdown",
      "metadata": {
        "id": "WzeaVRcjh7iI"
      },
      "source": [
        "# Filter, Drop Nulls, Dedupe\n",
        "Use `data_08_v1.csv` and `data_18_v1.csv`"
      ]
    },
    {
      "cell_type": "code",
      "metadata": {
        "id": "KvC4uAPRh7iJ",
        "outputId": "ac17431e-343e-4481-994a-d325aa5894d0",
        "colab": {
          "base_uri": "https://localhost:8080/"
        }
      },
      "source": [
        "# load libraries\n",
        "import pandas as pd\n",
        "print('Import Complete')"
      ],
      "execution_count": 1,
      "outputs": [
        {
          "output_type": "stream",
          "text": [
            "Import Complete\n"
          ],
          "name": "stdout"
        }
      ]
    },
    {
      "cell_type": "code",
      "metadata": {
        "id": "IfWxJZ6riDQy",
        "outputId": "d241a8d0-ab92-43b7-a892-cd061016c8be",
        "colab": {
          "base_uri": "https://localhost:8080/"
        }
      },
      "source": [
        "# url to github csv files\n",
        "# github |  folder | filename.csv | raw (copy and paste url from address bar after opening raw file)\n",
        "url_08 = 'https://raw.githubusercontent.com/bentegviz/udacity_intro_to_data_analysis/main/Case%20Study%202/data/processed/data_08_v1.csv'\n",
        "url_18 = 'https://raw.githubusercontent.com/bentegviz/udacity_intro_to_data_analysis/main/Case%20Study%202/data/processed/data_18_v1.csv'\n",
        "print('Import CSV Complete')"
      ],
      "execution_count": 2,
      "outputs": [
        {
          "output_type": "stream",
          "text": [
            "Import CSV Complete\n"
          ],
          "name": "stdout"
        }
      ]
    },
    {
      "cell_type": "code",
      "metadata": {
        "id": "2BBTdeFLiDub"
      },
      "source": [
        "# load dataframe from url of both datasets\n",
        "df_08 = pd.read_csv(url_08)\n",
        "df_18 = pd.read_csv(url_18)"
      ],
      "execution_count": 3,
      "outputs": []
    },
    {
      "cell_type": "code",
      "metadata": {
        "id": "YuFQLUDAh7iL",
        "outputId": "59df3fee-5e97-44ae-b4a2-1c26ecfba066",
        "colab": {
          "base_uri": "https://localhost:8080/"
        }
      },
      "source": [
        "# view dimensions of dataset\n",
        "df_08.shape"
      ],
      "execution_count": 4,
      "outputs": [
        {
          "output_type": "execute_result",
          "data": {
            "text/plain": [
              "(2404, 14)"
            ]
          },
          "metadata": {
            "tags": []
          },
          "execution_count": 4
        }
      ]
    },
    {
      "cell_type": "code",
      "metadata": {
        "id": "042zuDQoh7iM",
        "outputId": "956ff50d-42c4-4b69-aa9d-cb1f7fc1f7d1",
        "colab": {
          "base_uri": "https://localhost:8080/"
        }
      },
      "source": [
        "# view dimensions of dataset\n",
        "df_18.shape"
      ],
      "execution_count": 5,
      "outputs": [
        {
          "output_type": "execute_result",
          "data": {
            "text/plain": [
              "(2404, 14)"
            ]
          },
          "metadata": {
            "tags": []
          },
          "execution_count": 5
        }
      ]
    },
    {
      "cell_type": "code",
      "metadata": {
        "id": "uYbWGGe-k1PX",
        "outputId": "1e370f03-81ec-48b7-b14a-db12c2daa95e",
        "colab": {
          "base_uri": "https://localhost:8080/",
          "height": 313
        }
      },
      "source": [
        "df_08.head()"
      ],
      "execution_count": 6,
      "outputs": [
        {
          "output_type": "execute_result",
          "data": {
            "text/html": [
              "<div>\n",
              "<style scoped>\n",
              "    .dataframe tbody tr th:only-of-type {\n",
              "        vertical-align: middle;\n",
              "    }\n",
              "\n",
              "    .dataframe tbody tr th {\n",
              "        vertical-align: top;\n",
              "    }\n",
              "\n",
              "    .dataframe thead th {\n",
              "        text-align: right;\n",
              "    }\n",
              "</style>\n",
              "<table border=\"1\" class=\"dataframe\">\n",
              "  <thead>\n",
              "    <tr style=\"text-align: right;\">\n",
              "      <th></th>\n",
              "      <th>model</th>\n",
              "      <th>displ</th>\n",
              "      <th>cyl</th>\n",
              "      <th>trans</th>\n",
              "      <th>drive</th>\n",
              "      <th>fuel</th>\n",
              "      <th>cert_region</th>\n",
              "      <th>veh_class</th>\n",
              "      <th>air_pollution_score</th>\n",
              "      <th>city_mpg</th>\n",
              "      <th>hwy_mpg</th>\n",
              "      <th>cmb_mpg</th>\n",
              "      <th>greenhouse_gas_score</th>\n",
              "      <th>smartway</th>\n",
              "    </tr>\n",
              "  </thead>\n",
              "  <tbody>\n",
              "    <tr>\n",
              "      <th>0</th>\n",
              "      <td>ACURA MDX</td>\n",
              "      <td>3.7</td>\n",
              "      <td>(6 cyl)</td>\n",
              "      <td>Auto-S5</td>\n",
              "      <td>4WD</td>\n",
              "      <td>Gasoline</td>\n",
              "      <td>CA</td>\n",
              "      <td>SUV</td>\n",
              "      <td>7</td>\n",
              "      <td>15</td>\n",
              "      <td>20</td>\n",
              "      <td>17</td>\n",
              "      <td>4</td>\n",
              "      <td>no</td>\n",
              "    </tr>\n",
              "    <tr>\n",
              "      <th>1</th>\n",
              "      <td>ACURA MDX</td>\n",
              "      <td>3.7</td>\n",
              "      <td>(6 cyl)</td>\n",
              "      <td>Auto-S5</td>\n",
              "      <td>4WD</td>\n",
              "      <td>Gasoline</td>\n",
              "      <td>FA</td>\n",
              "      <td>SUV</td>\n",
              "      <td>6</td>\n",
              "      <td>15</td>\n",
              "      <td>20</td>\n",
              "      <td>17</td>\n",
              "      <td>4</td>\n",
              "      <td>no</td>\n",
              "    </tr>\n",
              "    <tr>\n",
              "      <th>2</th>\n",
              "      <td>ACURA RDX</td>\n",
              "      <td>2.3</td>\n",
              "      <td>(4 cyl)</td>\n",
              "      <td>Auto-S5</td>\n",
              "      <td>4WD</td>\n",
              "      <td>Gasoline</td>\n",
              "      <td>CA</td>\n",
              "      <td>SUV</td>\n",
              "      <td>7</td>\n",
              "      <td>17</td>\n",
              "      <td>22</td>\n",
              "      <td>19</td>\n",
              "      <td>5</td>\n",
              "      <td>no</td>\n",
              "    </tr>\n",
              "    <tr>\n",
              "      <th>3</th>\n",
              "      <td>ACURA RDX</td>\n",
              "      <td>2.3</td>\n",
              "      <td>(4 cyl)</td>\n",
              "      <td>Auto-S5</td>\n",
              "      <td>4WD</td>\n",
              "      <td>Gasoline</td>\n",
              "      <td>FA</td>\n",
              "      <td>SUV</td>\n",
              "      <td>6</td>\n",
              "      <td>17</td>\n",
              "      <td>22</td>\n",
              "      <td>19</td>\n",
              "      <td>5</td>\n",
              "      <td>no</td>\n",
              "    </tr>\n",
              "    <tr>\n",
              "      <th>4</th>\n",
              "      <td>ACURA RL</td>\n",
              "      <td>3.5</td>\n",
              "      <td>(6 cyl)</td>\n",
              "      <td>Auto-S5</td>\n",
              "      <td>4WD</td>\n",
              "      <td>Gasoline</td>\n",
              "      <td>CA</td>\n",
              "      <td>midsize car</td>\n",
              "      <td>7</td>\n",
              "      <td>16</td>\n",
              "      <td>24</td>\n",
              "      <td>19</td>\n",
              "      <td>5</td>\n",
              "      <td>no</td>\n",
              "    </tr>\n",
              "  </tbody>\n",
              "</table>\n",
              "</div>"
            ],
            "text/plain": [
              "       model  displ      cyl  ... cmb_mpg greenhouse_gas_score smartway\n",
              "0  ACURA MDX    3.7  (6 cyl)  ...      17                    4       no\n",
              "1  ACURA MDX    3.7  (6 cyl)  ...      17                    4       no\n",
              "2  ACURA RDX    2.3  (4 cyl)  ...      19                    5       no\n",
              "3  ACURA RDX    2.3  (4 cyl)  ...      19                    5       no\n",
              "4   ACURA RL    3.5  (6 cyl)  ...      19                    5       no\n",
              "\n",
              "[5 rows x 14 columns]"
            ]
          },
          "metadata": {
            "tags": []
          },
          "execution_count": 6
        }
      ]
    },
    {
      "cell_type": "markdown",
      "metadata": {
        "id": "eu3Jd2zWh7iN"
      },
      "source": [
        "## Filter by Certification Region"
      ]
    },
    {
      "cell_type": "code",
      "metadata": {
        "id": "jKgqNHdgh7iN"
      },
      "source": [
        "# filter datasets for rows following California standards\n",
        "df_08 = df_08.query('cert_region == \"CA\"')\n",
        "df_18 = df_18.query('cert_region == \"CA\"')"
      ],
      "execution_count": 7,
      "outputs": []
    },
    {
      "cell_type": "code",
      "metadata": {
        "id": "jvTgTGy5h7iP",
        "outputId": "df725268-235d-4d48-e190-3aaabaaa3836",
        "colab": {
          "base_uri": "https://localhost:8080/"
        }
      },
      "source": [
        "# confirm only certification region is California\n",
        "df_08['cert_region'].unique()"
      ],
      "execution_count": 8,
      "outputs": [
        {
          "output_type": "execute_result",
          "data": {
            "text/plain": [
              "array(['CA'], dtype=object)"
            ]
          },
          "metadata": {
            "tags": []
          },
          "execution_count": 8
        }
      ]
    },
    {
      "cell_type": "code",
      "metadata": {
        "id": "S86jYXYih7iP",
        "outputId": "54be757b-43e1-4261-b777-2579c4b3034e",
        "colab": {
          "base_uri": "https://localhost:8080/"
        }
      },
      "source": [
        "# confirm only certification region is California\n",
        "df_18['cert_region'].unique()"
      ],
      "execution_count": 9,
      "outputs": [
        {
          "output_type": "execute_result",
          "data": {
            "text/plain": [
              "array(['CA'], dtype=object)"
            ]
          },
          "metadata": {
            "tags": []
          },
          "execution_count": 9
        }
      ]
    },
    {
      "cell_type": "code",
      "metadata": {
        "id": "p3G0icP4h7iQ"
      },
      "source": [
        "# drop certification region columns form both datasets\n",
        "df_08.drop('cert_region', axis=1, inplace=True)\n",
        "df_18.drop('cert_region', axis=1, inplace=True)"
      ],
      "execution_count": 10,
      "outputs": []
    },
    {
      "cell_type": "code",
      "metadata": {
        "id": "2lOHqIYuh7iT",
        "outputId": "fd73b88c-565d-4447-aa82-b785f5d0df6f",
        "colab": {
          "base_uri": "https://localhost:8080/"
        }
      },
      "source": [
        "df_08.shape"
      ],
      "execution_count": 11,
      "outputs": [
        {
          "output_type": "execute_result",
          "data": {
            "text/plain": [
              "(1084, 13)"
            ]
          },
          "metadata": {
            "tags": []
          },
          "execution_count": 11
        }
      ]
    },
    {
      "cell_type": "code",
      "metadata": {
        "id": "EY6Og7FGh7iT",
        "outputId": "67f6f64b-bb85-46b7-cebb-23faf4ba0818",
        "colab": {
          "base_uri": "https://localhost:8080/"
        }
      },
      "source": [
        "df_18.shape"
      ],
      "execution_count": 12,
      "outputs": [
        {
          "output_type": "execute_result",
          "data": {
            "text/plain": [
              "(1084, 13)"
            ]
          },
          "metadata": {
            "tags": []
          },
          "execution_count": 12
        }
      ]
    },
    {
      "cell_type": "markdown",
      "metadata": {
        "id": "gTjXSMFTh7iU"
      },
      "source": [
        "## Drop Rows with Missing Values"
      ]
    },
    {
      "cell_type": "code",
      "metadata": {
        "id": "9yMph8Pmh7iU",
        "outputId": "c706cfac-2ba8-4b09-bd93-7e0f167f00e7",
        "colab": {
          "base_uri": "https://localhost:8080/"
        }
      },
      "source": [
        "# view missing value count for each feature in 2008\n",
        "df_08.isnull().sum()"
      ],
      "execution_count": 13,
      "outputs": [
        {
          "output_type": "execute_result",
          "data": {
            "text/plain": [
              "model                    0\n",
              "displ                    0\n",
              "cyl                     75\n",
              "trans                   75\n",
              "drive                   37\n",
              "fuel                     0\n",
              "veh_class                0\n",
              "air_pollution_score      0\n",
              "city_mpg                75\n",
              "hwy_mpg                 75\n",
              "cmb_mpg                 75\n",
              "greenhouse_gas_score    75\n",
              "smartway                 0\n",
              "dtype: int64"
            ]
          },
          "metadata": {
            "tags": []
          },
          "execution_count": 13
        }
      ]
    },
    {
      "cell_type": "code",
      "metadata": {
        "id": "eZ3f5KYuh7iV",
        "outputId": "02904b0e-fcbe-41d4-e16f-31556874a1cf",
        "colab": {
          "base_uri": "https://localhost:8080/"
        }
      },
      "source": [
        "# view missing value count for each feature in 2018\n",
        "df_18.isnull().sum()"
      ],
      "execution_count": 14,
      "outputs": [
        {
          "output_type": "execute_result",
          "data": {
            "text/plain": [
              "model                    0\n",
              "displ                    0\n",
              "cyl                     75\n",
              "trans                   75\n",
              "drive                   37\n",
              "fuel                     0\n",
              "veh_class                0\n",
              "air_pollution_score      0\n",
              "city_mpg                75\n",
              "hwy_mpg                 75\n",
              "cmb_mpg                 75\n",
              "greenhouse_gas_score    75\n",
              "smartway                 0\n",
              "dtype: int64"
            ]
          },
          "metadata": {
            "tags": []
          },
          "execution_count": 14
        }
      ]
    },
    {
      "cell_type": "code",
      "metadata": {
        "id": "iKKBryjRh7iV"
      },
      "source": [
        "# drop rows with any null values in both datasets\n",
        "df_08.dropna(inplace=True)\n",
        "df_18.dropna(inplace=True)"
      ],
      "execution_count": 15,
      "outputs": []
    },
    {
      "cell_type": "code",
      "metadata": {
        "id": "EaxIAtyvh7iW",
        "outputId": "1f2dc226-eda1-4e5b-e80d-f11b6b5ff5ba",
        "colab": {
          "base_uri": "https://localhost:8080/"
        }
      },
      "source": [
        "# checks if any of columns in 2008 have null values - should print False\n",
        "df_08.isnull().sum().any()"
      ],
      "execution_count": 16,
      "outputs": [
        {
          "output_type": "execute_result",
          "data": {
            "text/plain": [
              "False"
            ]
          },
          "metadata": {
            "tags": []
          },
          "execution_count": 16
        }
      ]
    },
    {
      "cell_type": "code",
      "metadata": {
        "id": "8bAB6umRh7iX",
        "outputId": "502c8899-8e2f-4efa-bc9d-2fa96502673b",
        "colab": {
          "base_uri": "https://localhost:8080/"
        }
      },
      "source": [
        "# checks if any of columns in 2018 have null values - should print False\n",
        "df_18.isnull().sum().any()"
      ],
      "execution_count": 17,
      "outputs": [
        {
          "output_type": "execute_result",
          "data": {
            "text/plain": [
              "False"
            ]
          },
          "metadata": {
            "tags": []
          },
          "execution_count": 17
        }
      ]
    },
    {
      "cell_type": "markdown",
      "metadata": {
        "id": "4bsAAKAZh7iX"
      },
      "source": [
        "## Dedupe Data"
      ]
    },
    {
      "cell_type": "code",
      "metadata": {
        "id": "mkLqXID8h7iX",
        "outputId": "d304f462-d140-4e1a-89d4-d3657e323ab7",
        "colab": {
          "base_uri": "https://localhost:8080/"
        }
      },
      "source": [
        "# print number of duplicates in 2008 and 2018 datasets\n",
        "print(df_08.duplicated().sum())\n",
        "print(df_18.duplicated().sum())"
      ],
      "execution_count": 18,
      "outputs": [
        {
          "output_type": "stream",
          "text": [
            "23\n",
            "23\n"
          ],
          "name": "stdout"
        }
      ]
    },
    {
      "cell_type": "code",
      "metadata": {
        "id": "tcl9MUM6h7iY"
      },
      "source": [
        "# drop duplicates in both datasets\n",
        "df_08.drop_duplicates(inplace=True)\n",
        "df_18.drop_duplicates(inplace=True)"
      ],
      "execution_count": 19,
      "outputs": []
    },
    {
      "cell_type": "code",
      "metadata": {
        "id": "lFHd6i_dh7iY",
        "outputId": "b6ea0b5d-7624-4c05-f0ca-2ea44ed56bb4",
        "colab": {
          "base_uri": "https://localhost:8080/"
        }
      },
      "source": [
        "# print number of duplicates again to confirm dedupe - should both be 0\n",
        "print(df_08.duplicated().sum())\n",
        "print(df_18.duplicated().sum())"
      ],
      "execution_count": 20,
      "outputs": [
        {
          "output_type": "stream",
          "text": [
            "0\n",
            "0\n"
          ],
          "name": "stdout"
        }
      ]
    },
    {
      "cell_type": "code",
      "metadata": {
        "id": "r3gx_lsVh7iY"
      },
      "source": [
        "# save progress for the next section\n",
        "#df_08.to_csv('data_08_v2.csv', index=False)\n",
        "#df_18.to_csv('data_18_v2.csv', index=False)"
      ],
      "execution_count": 21,
      "outputs": []
    },
    {
      "cell_type": "markdown",
      "metadata": {
        "id": "bBxe0B1KoqXK"
      },
      "source": [
        "# New Section"
      ]
    },
    {
      "cell_type": "code",
      "metadata": {
        "id": "0gUKcqz0h7iY"
      },
      "source": [
        ""
      ],
      "execution_count": null,
      "outputs": []
    }
  ]
}