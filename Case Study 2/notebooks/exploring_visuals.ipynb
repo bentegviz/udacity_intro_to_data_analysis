{
  "nbformat": 4,
  "nbformat_minor": 0,
  "metadata": {
    "kernelspec": {
      "display_name": "Python 3",
      "language": "python",
      "name": "python3"
    },
    "language_info": {
      "codemirror_mode": {
        "name": "ipython",
        "version": 3
      },
      "file_extension": ".py",
      "mimetype": "text/x-python",
      "name": "python",
      "nbconvert_exporter": "python",
      "pygments_lexer": "ipython3",
      "version": "3.6.3"
    },
    "colab": {
      "name": "exploring_visuals.ipynb",
      "provenance": []
    }
  },
  "cells": [
    {
      "cell_type": "markdown",
      "metadata": {
        "id": "E40qYHQSrxGB"
      },
      "source": [
        "# Exploring with Visuals\n",
        "- 2008: extract int from string\n",
        "- 2018: convert float to int\n",
        "\n",
        "Load datasets `data_08_v2.csv` and `data_18_v2.csv`. You should've created these data files in the previous section: *Filter, Drop Nulls, Dedupe*."
      ]
    },
    {
      "cell_type": "code",
      "metadata": {
        "id": "In--WIugrxGD"
      },
      "source": [
        "import pandas as pd"
      ],
      "execution_count": null,
      "outputs": []
    },
    {
      "cell_type": "code",
      "metadata": {
        "id": "Xqh09pUXrxGE"
      },
      "source": [
        "# dataset url\n",
        "url_08 = ('https://raw.githubusercontent.com/bentegviz/udacity_intro_to_data_analysis/main/Case%20Study%202/data/processed/all_alpha_08.csv')\n",
        "url_18 = ('https://raw.githubusercontent.com/bentegviz/udacity_intro_to_data_analysis/main/Case%20Study%202/data/processed/all_alpha_18.csv')"
      ],
      "execution_count": null,
      "outputs": []
    },
    {
      "cell_type": "code",
      "metadata": {
        "id": "dvl7pNHTrxGF"
      },
      "source": [
        "# csv to dataset\n",
        "df_08 = pd.read_csv(url_08)\n",
        "df_18 = pd.read_csv(url_18)\n",
        "print('Load CSV Complete')"
      ],
      "execution_count": null,
      "outputs": []
    },
    {
      "cell_type": "code",
      "metadata": {
        "id": "C3zjO5r5rxGH"
      },
      "source": [
        "# check value counts for the 2008 cyl column\n",
        "df_08['Cyl'].value_counts()"
      ],
      "execution_count": null,
      "outputs": []
    },
    {
      "cell_type": "code",
      "metadata": {
        "id": "zHqCF6fctir1"
      },
      "source": [
        "# view missing value count for each feature in 2008\n",
        "df_08.isnull().sum()"
      ],
      "execution_count": null,
      "outputs": []
    },
    {
      "cell_type": "code",
      "metadata": {
        "id": "5gPNPAsktkHp"
      },
      "source": [
        "# view missing value count for each feature in 2018\n",
        "df_18.isnull().sum()"
      ],
      "execution_count": null,
      "outputs": []
    },
    {
      "cell_type": "code",
      "metadata": {
        "id": "QbbGfEPGtpnR"
      },
      "source": [
        "# drop rows with any null values in both datasets\n",
        "df_08.dropna(inplace=True)\n",
        "df_18.dropna(inplace=True)"
      ],
      "execution_count": null,
      "outputs": []
    },
    {
      "cell_type": "code",
      "metadata": {
        "id": "QOQljWtTtpV3"
      },
      "source": [
        "# checks if any of columns in 2008 have null values - should print False\n",
        "df_08.isnull().sum().any()"
      ],
      "execution_count": null,
      "outputs": []
    },
    {
      "cell_type": "code",
      "metadata": {
        "id": "8J3m-htBtwjM"
      },
      "source": [
        "# checks if any of columns in 2018 have null values - should print False\n",
        "df_18.isnull().sum().any()"
      ],
      "execution_count": null,
      "outputs": []
    },
    {
      "cell_type": "code",
      "metadata": {
        "id": "biJOE_MNt11J"
      },
      "source": [
        "# print number of duplicates in 2008 and 2018 datasets\n",
        "print(df_08.duplicated().sum())\n",
        "print(df_18.duplicated().sum())"
      ],
      "execution_count": null,
      "outputs": []
    },
    {
      "cell_type": "code",
      "metadata": {
        "id": "6M4YGKRTuAHn"
      },
      "source": [
        "# drop duplicates in both datasets\n",
        "df_08.drop_duplicates(inplace=True)\n",
        "df_18.drop_duplicates(inplace=True)"
      ],
      "execution_count": null,
      "outputs": []
    },
    {
      "cell_type": "code",
      "metadata": {
        "id": "MUDOj004uDEN"
      },
      "source": [
        "# print number of duplicates in 2008 and 2018 datasets\n",
        "print(df_08.duplicated().sum())\n",
        "print(df_18.duplicated().sum())"
      ],
      "execution_count": null,
      "outputs": []
    },
    {
      "cell_type": "markdown",
      "metadata": {
        "id": "d2pnvf99rxGH"
      },
      "source": [
        "Read [this](https://stackoverflow.com/questions/35376387/extract-int-from-string-in-pandas) to help you extract ints from strings in Pandas for the next step."
      ]
    },
    {
      "cell_type": "markdown",
      "metadata": {
        "id": "1SMnFiw9w6wS"
      },
      "source": [
        "Fix Cyl to Int"
      ]
    },
    {
      "cell_type": "code",
      "metadata": {
        "id": "FqtMK8PYrxGI"
      },
      "source": [
        "# Extract int from strings in the 2008 cyl column\n",
        "\n",
        "# df['B'].str.extract('(\\d+)').astype(int)\n",
        "\n",
        "df_08['Cyl'] = df_08['Cyl'].str.extract('(\\d+)').astype(int)"
      ],
      "execution_count": null,
      "outputs": []
    },
    {
      "cell_type": "code",
      "metadata": {
        "id": "6qPvAmEprxGI"
      },
      "source": [
        "# Check value counts for 2008 cyl column again to confirm the change\n",
        "df_08['Cyl'].value_counts()"
      ],
      "execution_count": null,
      "outputs": []
    },
    {
      "cell_type": "code",
      "metadata": {
        "id": "AOxFeAtKrxGJ"
      },
      "source": [
        "# convert 2018 cyl column to int\n",
        "df_18['Cyl'] = df_18['Cyl'].astype('int64')"
      ],
      "execution_count": null,
      "outputs": []
    },
    {
      "cell_type": "code",
      "metadata": {
        "id": "vC9vinKcubsq"
      },
      "source": [
        "df_18['Cyl'].value_counts()"
      ],
      "execution_count": null,
      "outputs": []
    },
    {
      "cell_type": "markdown",
      "metadata": {
        "id": "d4KkmeY8w-rR"
      },
      "source": [
        "Fix Air Pollution to Float"
      ]
    },
    {
      "cell_type": "code",
      "metadata": {
        "id": "BGK7qHAbxIl5"
      },
      "source": [
        "print(df_08['Air Pollution Score'].value_counts())\n",
        "print(df_08['Air Pollution Score'].value_counts())\n"
      ],
      "execution_count": null,
      "outputs": []
    },
    {
      "cell_type": "code",
      "metadata": {
        "id": "l3t8gUNNxrtP"
      },
      "source": [
        "# Change Air Pollition Score to Float\n",
        "df_08['Air Pollution Score'] = df_08['Air Pollution Score'].str.extract('(\\d+)').astype(float)\n",
        "df_18['Air Pollution Score'] = df_18['Air Pollution Score'].astype('float')\n"
      ],
      "execution_count": null,
      "outputs": []
    },
    {
      "cell_type": "code",
      "metadata": {
        "id": "oqz3B0W0yVBS"
      },
      "source": [
        "print(df_08['Air Pollution Score'].dtypes)\n",
        "print(df_18['Air Pollution Score'].dtypes)"
      ],
      "execution_count": null,
      "outputs": []
    },
    {
      "cell_type": "markdown",
      "metadata": {
        "id": "EY1PAdcsxCuD"
      },
      "source": [
        "Fix MPG to Float"
      ]
    },
    {
      "cell_type": "code",
      "metadata": {
        "id": "ZY-laGhpxTPW"
      },
      "source": [
        "# Change Air Pollition Score to Float\n",
        "df_08['City MPG'] = df_08['City MPG'].str.extract('(\\d+)').astype(float)\n",
        "df_08['Hwy MPG'] = df_08['Hwy MPG'].str.extract('(\\d+)').astype(float)\n",
        "df_08['Cmb MPG'] = df_08['Cmb MPG'].str.extract('(\\d+)').astype(float)\n",
        "\n",
        "df_18['City MPG'] = df_18['City MPG'].str.extract('(\\d+)').astype(float)\n",
        "df_18['Hwy MPG'] = df_18['Hwy MPG'].str.extract('(\\d+)').astype(float)\n",
        "df_18['Cmb MPG'] = df_18['Cmb MPG'].str.extract('(\\d+)').astype(float)"
      ],
      "execution_count": null,
      "outputs": []
    },
    {
      "cell_type": "code",
      "metadata": {
        "id": "7E8KFhTuzflC"
      },
      "source": [
        "print(df_08.dtypes)\n",
        "print(df_18.dtypes)"
      ],
      "execution_count": null,
      "outputs": []
    },
    {
      "cell_type": "markdown",
      "metadata": {
        "id": "xjiGNp5exCfd"
      },
      "source": [
        "Fix Greenhouse Gas to Int"
      ]
    },
    {
      "cell_type": "code",
      "metadata": {
        "id": "bGYIG4hMxJNf"
      },
      "source": [
        "# Extract int from strings in the 2008 cyl column\n",
        "\n",
        "# df['B'].str.extract('(\\d+)').astype(int)\n",
        "\n",
        "df_08['Greenhouse Gas Score'] = df_08['Greenhouse Gas Score'].str.extract('(\\d+)').astype(int)\n",
        "df_18['Greenhouse Gas Score'] = df_18['Greenhouse Gas Score'].str.extract('(\\d+)').astype(int)"
      ],
      "execution_count": null,
      "outputs": []
    },
    {
      "cell_type": "code",
      "metadata": {
        "id": "9mQQKo2Iz-DP"
      },
      "source": [
        "print(df_08['Greenhouse Gas Score'].dtypes)\n",
        "print(df_18['Greenhouse Gas Score'].dtypes)"
      ],
      "execution_count": null,
      "outputs": []
    },
    {
      "cell_type": "markdown",
      "metadata": {
        "id": "Q2syAVxVvcnl"
      },
      "source": [
        "Export CSV"
      ]
    },
    {
      "cell_type": "code",
      "metadata": {
        "id": "m_gApE34rxGK"
      },
      "source": [
        "from google.colab import files\n",
        "df_08.to_csv('data_08_v3.csv', index=False)\n",
        "files.download('data_08_v3.csv')"
      ],
      "execution_count": null,
      "outputs": []
    },
    {
      "cell_type": "code",
      "metadata": {
        "id": "hL4KAANxvxRu"
      },
      "source": [
        "df_18.to_csv('data_18_v3.csv', index=False)\n",
        "files.download('data_18_v3.csv')"
      ],
      "execution_count": null,
      "outputs": []
    }
  ]
}
