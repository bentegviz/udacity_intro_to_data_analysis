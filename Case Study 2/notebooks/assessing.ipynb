{
  "nbformat": 4,
  "nbformat_minor": 0,
  "metadata": {
    "kernelspec": {
      "display_name": "Python 3",
      "language": "python",
      "name": "python3"
    },
    "language_info": {
      "codemirror_mode": {
        "name": "ipython",
        "version": 3
      },
      "file_extension": ".py",
      "mimetype": "text/x-python",
      "name": "python",
      "nbconvert_exporter": "python",
      "pygments_lexer": "ipython3",
      "version": "3.6.3"
    },
    "colab": {
      "name": "assessing.ipynb",
      "provenance": []
    }
  },
  "cells": [
    {
      "cell_type": "markdown",
      "metadata": {
        "collapsed": true,
        "id": "eEfR-SNFhUoO"
      },
      "source": [
        "# Assessing\n",
        "Use the space below to explore `all_alpha_08.csv` and `all_alpha_18.csv` to answer the quiz questions below."
      ]
    },
    {
      "cell_type": "code",
      "metadata": {
        "id": "bdrb6hBThUoT",
        "outputId": "465fa0b3-760b-4610-af67-3b7a086b4ccb",
        "colab": {
          "base_uri": "https://localhost:8080/"
        }
      },
      "source": [
        "import warnings #to disable warnings\n",
        "warnings.filterwarnings('ignore') #disables warnings\n",
        "\n",
        "#import numpy as np \n",
        "import pandas as pd #for data processing\n",
        "import matplotlib.pyplot as plt #for plotting\n",
        "import seaborn as sns #for plotting\n",
        "#make plots visible inside the jupyter notebook\n",
        "%matplotlib inline \n",
        "%config InlineBackend.figure_format = 'retina'\n",
        "\n",
        "from sklearn.linear_model import LinearRegression #calc the trend-data for later plots\n",
        "#import missingno as ms #visualize missing data\n",
        "\n",
        "#improving the plot - quality (from: http://blog.rtwilson.com/how-to-get-nice-vector-graphics-in-your-exported-pdf-ipython-notebooks/)\n",
        "from IPython.display import set_matplotlib_formats \n",
        "set_matplotlib_formats('png', 'pdf')\n",
        "\n",
        "print('Import Libraries Complete')"
      ],
      "execution_count": 1,
      "outputs": [
        {
          "output_type": "stream",
          "text": [
            "Import Libraries Complete\n"
          ],
          "name": "stdout"
        }
      ]
    },
    {
      "cell_type": "code",
      "metadata": {
        "id": "Nb1cakvFhUoY",
        "outputId": "2e6fc209-702f-498b-d394-31bd927b7c60",
        "colab": {
          "base_uri": "https://localhost:8080/"
        }
      },
      "source": [
        "#dataset url\n",
        "url_08 = ('https://raw.githubusercontent.com/bentegviz/udacity_intro_to_data_analysis/main/Case%20Study%202/data/processed/all_alpha_08.csv')\n",
        "url_18 = ('https://raw.githubusercontent.com/bentegviz/udacity_intro_to_data_analysis/main/Case%20Study%202/data/processed/all_alpha_18.csv')\n",
        "\n",
        "#load the datasets\n",
        "df_08 = pd.read_csv(url_08)\n",
        "df_18 = pd.read_csv(url_18)\n",
        "\n",
        "print('Load Datasets Complete')"
      ],
      "execution_count": 2,
      "outputs": [
        {
          "output_type": "stream",
          "text": [
            "Load Datasets Complete\n"
          ],
          "name": "stdout"
        }
      ]
    },
    {
      "cell_type": "markdown",
      "metadata": {
        "id": "z6GoocL0hUob"
      },
      "source": [
        "*Number of samples in each dataset*"
      ]
    },
    {
      "cell_type": "code",
      "metadata": {
        "id": "GXzE3QgaiFoP",
        "outputId": "8a7ce10d-9cfd-432b-eb9f-05f47cda8cab",
        "colab": {
          "base_uri": "https://localhost:8080/"
        }
      },
      "source": [
        "print(df_08.shape)\n",
        "print(df_18.shape)"
      ],
      "execution_count": 9,
      "outputs": [
        {
          "output_type": "stream",
          "text": [
            "(2404, 18)\n",
            "(1611, 18)\n"
          ],
          "name": "stdout"
        }
      ]
    },
    {
      "cell_type": "code",
      "metadata": {
        "id": "gkIZQ-f2hUog",
        "outputId": "11dd1f19-2f69-47e0-f270-acb645d94caa",
        "colab": {
          "base_uri": "https://localhost:8080/"
        }
      },
      "source": [
        "df_08.info()"
      ],
      "execution_count": 11,
      "outputs": [
        {
          "output_type": "stream",
          "text": [
            "<class 'pandas.core.frame.DataFrame'>\n",
            "RangeIndex: 2404 entries, 0 to 2403\n",
            "Data columns (total 18 columns):\n",
            " #   Column                Non-Null Count  Dtype  \n",
            "---  ------                --------------  -----  \n",
            " 0   Model                 2404 non-null   object \n",
            " 1   Displ                 2404 non-null   float64\n",
            " 2   Cyl                   2205 non-null   object \n",
            " 3   Trans                 2205 non-null   object \n",
            " 4   Drive                 2311 non-null   object \n",
            " 5   Fuel                  2404 non-null   object \n",
            " 6   Sales Area            2404 non-null   object \n",
            " 7   Stnd                  2404 non-null   object \n",
            " 8   Underhood ID          2404 non-null   object \n",
            " 9   Veh Class             2404 non-null   object \n",
            " 10  Air Pollution Score   2404 non-null   object \n",
            " 11  FE Calc Appr          2205 non-null   object \n",
            " 12  City MPG              2205 non-null   object \n",
            " 13  Hwy MPG               2205 non-null   object \n",
            " 14  Cmb MPG               2205 non-null   object \n",
            " 15  Unadj Cmb MPG         2205 non-null   float64\n",
            " 16  Greenhouse Gas Score  2205 non-null   object \n",
            " 17  SmartWay              2404 non-null   object \n",
            "dtypes: float64(2), object(16)\n",
            "memory usage: 338.2+ KB\n"
          ],
          "name": "stdout"
        }
      ]
    },
    {
      "cell_type": "code",
      "metadata": {
        "id": "nloiCdaUiLiO",
        "outputId": "a1fbf0a3-9fd6-40b9-b048-2415f7bc03d5",
        "colab": {
          "base_uri": "https://localhost:8080/"
        }
      },
      "source": [
        "df_18.info()"
      ],
      "execution_count": 5,
      "outputs": [
        {
          "output_type": "stream",
          "text": [
            "<class 'pandas.core.frame.DataFrame'>\n",
            "RangeIndex: 1611 entries, 0 to 1610\n",
            "Data columns (total 18 columns):\n",
            " #   Column                Non-Null Count  Dtype  \n",
            "---  ------                --------------  -----  \n",
            " 0   Model                 1611 non-null   object \n",
            " 1   Displ                 1609 non-null   float64\n",
            " 2   Cyl                   1609 non-null   float64\n",
            " 3   Trans                 1611 non-null   object \n",
            " 4   Drive                 1611 non-null   object \n",
            " 5   Fuel                  1611 non-null   object \n",
            " 6   Cert Region           1611 non-null   object \n",
            " 7   Stnd                  1611 non-null   object \n",
            " 8   Stnd Description      1611 non-null   object \n",
            " 9   Underhood ID          1611 non-null   object \n",
            " 10  Veh Class             1611 non-null   object \n",
            " 11  Air Pollution Score   1611 non-null   int64  \n",
            " 12  City MPG              1611 non-null   object \n",
            " 13  Hwy MPG               1611 non-null   object \n",
            " 14  Cmb MPG               1611 non-null   object \n",
            " 15  Greenhouse Gas Score  1611 non-null   int64  \n",
            " 16  SmartWay              1611 non-null   object \n",
            " 17  Comb CO2              1611 non-null   object \n",
            "dtypes: float64(2), int64(2), object(14)\n",
            "memory usage: 226.7+ KB\n"
          ],
          "name": "stdout"
        }
      ]
    },
    {
      "cell_type": "code",
      "metadata": {
        "id": "fCPQcg2OhUoh",
        "outputId": "40f9855c-6c87-459f-c811-9984b9df7394"
      },
      "source": [
        "df_08.head()"
      ],
      "execution_count": null,
      "outputs": [
        {
          "output_type": "execute_result",
          "data": {
            "text/html": [
              "<div>\n",
              "<style scoped>\n",
              "    .dataframe tbody tr th:only-of-type {\n",
              "        vertical-align: middle;\n",
              "    }\n",
              "\n",
              "    .dataframe tbody tr th {\n",
              "        vertical-align: top;\n",
              "    }\n",
              "\n",
              "    .dataframe thead th {\n",
              "        text-align: right;\n",
              "    }\n",
              "</style>\n",
              "<table border=\"1\" class=\"dataframe\">\n",
              "  <thead>\n",
              "    <tr style=\"text-align: right;\">\n",
              "      <th></th>\n",
              "      <th>Model</th>\n",
              "      <th>Displ</th>\n",
              "      <th>Cyl</th>\n",
              "      <th>Trans</th>\n",
              "      <th>Drive</th>\n",
              "      <th>Fuel</th>\n",
              "      <th>Sales Area</th>\n",
              "      <th>Stnd</th>\n",
              "      <th>Underhood ID</th>\n",
              "      <th>Veh Class</th>\n",
              "      <th>Air Pollution Score</th>\n",
              "      <th>FE Calc Appr</th>\n",
              "      <th>City MPG</th>\n",
              "      <th>Hwy MPG</th>\n",
              "      <th>Cmb MPG</th>\n",
              "      <th>Unadj Cmb MPG</th>\n",
              "      <th>Greenhouse Gas Score</th>\n",
              "      <th>SmartWay</th>\n",
              "    </tr>\n",
              "  </thead>\n",
              "  <tbody>\n",
              "    <tr>\n",
              "      <th>0</th>\n",
              "      <td>ACURA MDX</td>\n",
              "      <td>3.7</td>\n",
              "      <td>(6 cyl)</td>\n",
              "      <td>Auto-S5</td>\n",
              "      <td>4WD</td>\n",
              "      <td>Gasoline</td>\n",
              "      <td>CA</td>\n",
              "      <td>U2</td>\n",
              "      <td>8HNXT03.7PKR</td>\n",
              "      <td>SUV</td>\n",
              "      <td>7</td>\n",
              "      <td>Drv</td>\n",
              "      <td>15</td>\n",
              "      <td>20</td>\n",
              "      <td>17</td>\n",
              "      <td>22.0527</td>\n",
              "      <td>4</td>\n",
              "      <td>no</td>\n",
              "    </tr>\n",
              "    <tr>\n",
              "      <th>1</th>\n",
              "      <td>ACURA MDX</td>\n",
              "      <td>3.7</td>\n",
              "      <td>(6 cyl)</td>\n",
              "      <td>Auto-S5</td>\n",
              "      <td>4WD</td>\n",
              "      <td>Gasoline</td>\n",
              "      <td>FA</td>\n",
              "      <td>B5</td>\n",
              "      <td>8HNXT03.7PKR</td>\n",
              "      <td>SUV</td>\n",
              "      <td>6</td>\n",
              "      <td>Drv</td>\n",
              "      <td>15</td>\n",
              "      <td>20</td>\n",
              "      <td>17</td>\n",
              "      <td>22.0527</td>\n",
              "      <td>4</td>\n",
              "      <td>no</td>\n",
              "    </tr>\n",
              "    <tr>\n",
              "      <th>2</th>\n",
              "      <td>ACURA RDX</td>\n",
              "      <td>2.3</td>\n",
              "      <td>(4 cyl)</td>\n",
              "      <td>Auto-S5</td>\n",
              "      <td>4WD</td>\n",
              "      <td>Gasoline</td>\n",
              "      <td>CA</td>\n",
              "      <td>U2</td>\n",
              "      <td>8HNXT02.3DKR</td>\n",
              "      <td>SUV</td>\n",
              "      <td>7</td>\n",
              "      <td>Drv</td>\n",
              "      <td>17</td>\n",
              "      <td>22</td>\n",
              "      <td>19</td>\n",
              "      <td>24.1745</td>\n",
              "      <td>5</td>\n",
              "      <td>no</td>\n",
              "    </tr>\n",
              "    <tr>\n",
              "      <th>3</th>\n",
              "      <td>ACURA RDX</td>\n",
              "      <td>2.3</td>\n",
              "      <td>(4 cyl)</td>\n",
              "      <td>Auto-S5</td>\n",
              "      <td>4WD</td>\n",
              "      <td>Gasoline</td>\n",
              "      <td>FA</td>\n",
              "      <td>B5</td>\n",
              "      <td>8HNXT02.3DKR</td>\n",
              "      <td>SUV</td>\n",
              "      <td>6</td>\n",
              "      <td>Drv</td>\n",
              "      <td>17</td>\n",
              "      <td>22</td>\n",
              "      <td>19</td>\n",
              "      <td>24.1745</td>\n",
              "      <td>5</td>\n",
              "      <td>no</td>\n",
              "    </tr>\n",
              "    <tr>\n",
              "      <th>4</th>\n",
              "      <td>ACURA RL</td>\n",
              "      <td>3.5</td>\n",
              "      <td>(6 cyl)</td>\n",
              "      <td>Auto-S5</td>\n",
              "      <td>4WD</td>\n",
              "      <td>Gasoline</td>\n",
              "      <td>CA</td>\n",
              "      <td>U2</td>\n",
              "      <td>8HNXV03.5HKR</td>\n",
              "      <td>midsize car</td>\n",
              "      <td>7</td>\n",
              "      <td>Drv</td>\n",
              "      <td>16</td>\n",
              "      <td>24</td>\n",
              "      <td>19</td>\n",
              "      <td>24.5629</td>\n",
              "      <td>5</td>\n",
              "      <td>no</td>\n",
              "    </tr>\n",
              "  </tbody>\n",
              "</table>\n",
              "</div>"
            ],
            "text/plain": [
              "       Model  Displ      Cyl    Trans Drive      Fuel Sales Area Stnd  \\\n",
              "0  ACURA MDX    3.7  (6 cyl)  Auto-S5   4WD  Gasoline         CA   U2   \n",
              "1  ACURA MDX    3.7  (6 cyl)  Auto-S5   4WD  Gasoline         FA   B5   \n",
              "2  ACURA RDX    2.3  (4 cyl)  Auto-S5   4WD  Gasoline         CA   U2   \n",
              "3  ACURA RDX    2.3  (4 cyl)  Auto-S5   4WD  Gasoline         FA   B5   \n",
              "4   ACURA RL    3.5  (6 cyl)  Auto-S5   4WD  Gasoline         CA   U2   \n",
              "\n",
              "   Underhood ID    Veh Class Air Pollution Score FE Calc Appr City MPG  \\\n",
              "0  8HNXT03.7PKR          SUV                   7          Drv       15   \n",
              "1  8HNXT03.7PKR          SUV                   6          Drv       15   \n",
              "2  8HNXT02.3DKR          SUV                   7          Drv       17   \n",
              "3  8HNXT02.3DKR          SUV                   6          Drv       17   \n",
              "4  8HNXV03.5HKR  midsize car                   7          Drv       16   \n",
              "\n",
              "  Hwy MPG Cmb MPG  Unadj Cmb MPG Greenhouse Gas Score SmartWay  \n",
              "0      20      17        22.0527                    4       no  \n",
              "1      20      17        22.0527                    4       no  \n",
              "2      22      19        24.1745                    5       no  \n",
              "3      22      19        24.1745                    5       no  \n",
              "4      24      19        24.5629                    5       no  "
            ]
          },
          "metadata": {
            "tags": []
          },
          "execution_count": 62
        }
      ]
    },
    {
      "cell_type": "code",
      "metadata": {
        "id": "Q7LMBSLxiQik",
        "outputId": "fa9e0f40-4359-4203-99ef-309d86a19496",
        "colab": {
          "base_uri": "https://localhost:8080/",
          "height": 365
        }
      },
      "source": [
        "df_18.head()"
      ],
      "execution_count": 6,
      "outputs": [
        {
          "output_type": "execute_result",
          "data": {
            "text/html": [
              "<div>\n",
              "<style scoped>\n",
              "    .dataframe tbody tr th:only-of-type {\n",
              "        vertical-align: middle;\n",
              "    }\n",
              "\n",
              "    .dataframe tbody tr th {\n",
              "        vertical-align: top;\n",
              "    }\n",
              "\n",
              "    .dataframe thead th {\n",
              "        text-align: right;\n",
              "    }\n",
              "</style>\n",
              "<table border=\"1\" class=\"dataframe\">\n",
              "  <thead>\n",
              "    <tr style=\"text-align: right;\">\n",
              "      <th></th>\n",
              "      <th>Model</th>\n",
              "      <th>Displ</th>\n",
              "      <th>Cyl</th>\n",
              "      <th>Trans</th>\n",
              "      <th>Drive</th>\n",
              "      <th>Fuel</th>\n",
              "      <th>Cert Region</th>\n",
              "      <th>Stnd</th>\n",
              "      <th>Stnd Description</th>\n",
              "      <th>Underhood ID</th>\n",
              "      <th>Veh Class</th>\n",
              "      <th>Air Pollution Score</th>\n",
              "      <th>City MPG</th>\n",
              "      <th>Hwy MPG</th>\n",
              "      <th>Cmb MPG</th>\n",
              "      <th>Greenhouse Gas Score</th>\n",
              "      <th>SmartWay</th>\n",
              "      <th>Comb CO2</th>\n",
              "    </tr>\n",
              "  </thead>\n",
              "  <tbody>\n",
              "    <tr>\n",
              "      <th>0</th>\n",
              "      <td>ACURA RDX</td>\n",
              "      <td>3.5</td>\n",
              "      <td>6.0</td>\n",
              "      <td>SemiAuto-6</td>\n",
              "      <td>2WD</td>\n",
              "      <td>Gasoline</td>\n",
              "      <td>FA</td>\n",
              "      <td>T3B125</td>\n",
              "      <td>Federal Tier 3 Bin 125</td>\n",
              "      <td>JHNXT03.5GV3</td>\n",
              "      <td>small SUV</td>\n",
              "      <td>3</td>\n",
              "      <td>20</td>\n",
              "      <td>28</td>\n",
              "      <td>23</td>\n",
              "      <td>5</td>\n",
              "      <td>No</td>\n",
              "      <td>386</td>\n",
              "    </tr>\n",
              "    <tr>\n",
              "      <th>1</th>\n",
              "      <td>ACURA RDX</td>\n",
              "      <td>3.5</td>\n",
              "      <td>6.0</td>\n",
              "      <td>SemiAuto-6</td>\n",
              "      <td>2WD</td>\n",
              "      <td>Gasoline</td>\n",
              "      <td>CA</td>\n",
              "      <td>U2</td>\n",
              "      <td>California LEV-II ULEV</td>\n",
              "      <td>JHNXT03.5GV3</td>\n",
              "      <td>small SUV</td>\n",
              "      <td>3</td>\n",
              "      <td>20</td>\n",
              "      <td>28</td>\n",
              "      <td>23</td>\n",
              "      <td>5</td>\n",
              "      <td>No</td>\n",
              "      <td>386</td>\n",
              "    </tr>\n",
              "    <tr>\n",
              "      <th>2</th>\n",
              "      <td>ACURA RDX</td>\n",
              "      <td>3.5</td>\n",
              "      <td>6.0</td>\n",
              "      <td>SemiAuto-6</td>\n",
              "      <td>4WD</td>\n",
              "      <td>Gasoline</td>\n",
              "      <td>FA</td>\n",
              "      <td>T3B125</td>\n",
              "      <td>Federal Tier 3 Bin 125</td>\n",
              "      <td>JHNXT03.5GV3</td>\n",
              "      <td>small SUV</td>\n",
              "      <td>3</td>\n",
              "      <td>19</td>\n",
              "      <td>27</td>\n",
              "      <td>22</td>\n",
              "      <td>4</td>\n",
              "      <td>No</td>\n",
              "      <td>402</td>\n",
              "    </tr>\n",
              "    <tr>\n",
              "      <th>3</th>\n",
              "      <td>ACURA RDX</td>\n",
              "      <td>3.5</td>\n",
              "      <td>6.0</td>\n",
              "      <td>SemiAuto-6</td>\n",
              "      <td>4WD</td>\n",
              "      <td>Gasoline</td>\n",
              "      <td>CA</td>\n",
              "      <td>U2</td>\n",
              "      <td>California LEV-II ULEV</td>\n",
              "      <td>JHNXT03.5GV3</td>\n",
              "      <td>small SUV</td>\n",
              "      <td>3</td>\n",
              "      <td>19</td>\n",
              "      <td>27</td>\n",
              "      <td>22</td>\n",
              "      <td>4</td>\n",
              "      <td>No</td>\n",
              "      <td>402</td>\n",
              "    </tr>\n",
              "    <tr>\n",
              "      <th>4</th>\n",
              "      <td>ACURA TLX</td>\n",
              "      <td>2.4</td>\n",
              "      <td>4.0</td>\n",
              "      <td>AMS-8</td>\n",
              "      <td>2WD</td>\n",
              "      <td>Gasoline</td>\n",
              "      <td>CA</td>\n",
              "      <td>L3ULEV125</td>\n",
              "      <td>California LEV-III ULEV125</td>\n",
              "      <td>JHNXV02.4WH3</td>\n",
              "      <td>small car</td>\n",
              "      <td>3</td>\n",
              "      <td>23</td>\n",
              "      <td>33</td>\n",
              "      <td>27</td>\n",
              "      <td>6</td>\n",
              "      <td>No</td>\n",
              "      <td>330</td>\n",
              "    </tr>\n",
              "  </tbody>\n",
              "</table>\n",
              "</div>"
            ],
            "text/plain": [
              "       Model  Displ  Cyl  ... Greenhouse Gas Score SmartWay Comb CO2\n",
              "0  ACURA RDX    3.5  6.0  ...                    5       No      386\n",
              "1  ACURA RDX    3.5  6.0  ...                    5       No      386\n",
              "2  ACURA RDX    3.5  6.0  ...                    4       No      402\n",
              "3  ACURA RDX    3.5  6.0  ...                    4       No      402\n",
              "4  ACURA TLX    2.4  4.0  ...                    6       No      330\n",
              "\n",
              "[5 rows x 18 columns]"
            ]
          },
          "metadata": {
            "tags": []
          },
          "execution_count": 6
        }
      ]
    },
    {
      "cell_type": "code",
      "metadata": {
        "id": "5FOapDuchUoj",
        "outputId": "8837f878-e2cf-4c98-8473-08b2dd4bd965",
        "colab": {
          "base_uri": "https://localhost:8080/"
        }
      },
      "source": [
        "print(df_08['Fuel'].unique())\n",
        "print(df_18['Fuel'].unique())\n"
      ],
      "execution_count": 8,
      "outputs": [
        {
          "output_type": "stream",
          "text": [
            "['Gasoline' 'ethanol/gas' 'ethanol' 'diesel' 'CNG']\n",
            "['Gasoline' 'Gasoline/Electricity' 'Diesel' 'Ethanol/Gas' 'Electricity']\n"
          ],
          "name": "stdout"
        }
      ]
    },
    {
      "cell_type": "markdown",
      "metadata": {
        "id": "mXI-VYcqhUok"
      },
      "source": [
        "2404 rows in df_08 - 1611 rows in df_18"
      ]
    },
    {
      "cell_type": "markdown",
      "metadata": {
        "id": "Jq6lyEoDhUon"
      },
      "source": [
        "Number of columns in each dataset\n"
      ]
    },
    {
      "cell_type": "code",
      "metadata": {
        "id": "E8hihv3fhUop",
        "outputId": "f6fc85ac-dcce-4078-d596-372669b84d8c",
        "colab": {
          "base_uri": "https://localhost:8080/"
        }
      },
      "source": [
        "print(df_18.columns)\n",
        "print(df_18.columns)"
      ],
      "execution_count": 12,
      "outputs": [
        {
          "output_type": "stream",
          "text": [
            "Index(['Model', 'Displ', 'Cyl', 'Trans', 'Drive', 'Fuel', 'Cert Region',\n",
            "       'Stnd', 'Stnd Description', 'Underhood ID', 'Veh Class',\n",
            "       'Air Pollution Score', 'City MPG', 'Hwy MPG', 'Cmb MPG',\n",
            "       'Greenhouse Gas Score', 'SmartWay', 'Comb CO2'],\n",
            "      dtype='object')\n",
            "Index(['Model', 'Displ', 'Cyl', 'Trans', 'Drive', 'Fuel', 'Cert Region',\n",
            "       'Stnd', 'Stnd Description', 'Underhood ID', 'Veh Class',\n",
            "       'Air Pollution Score', 'City MPG', 'Hwy MPG', 'Cmb MPG',\n",
            "       'Greenhouse Gas Score', 'SmartWay', 'Comb CO2'],\n",
            "      dtype='object')\n"
          ],
          "name": "stdout"
        }
      ]
    },
    {
      "cell_type": "markdown",
      "metadata": {
        "id": "PJF4JwGAhUos"
      },
      "source": [
        "Duplicate rows in each dataset\n"
      ]
    },
    {
      "cell_type": "code",
      "metadata": {
        "id": "BEb8F6DthUot",
        "outputId": "658b7c21-08e2-474c-ddef-538e32ec5f95",
        "colab": {
          "base_uri": "https://localhost:8080/"
        }
      },
      "source": [
        "print(df_08.duplicated().sum())\n",
        "print(df_18.duplicated().sum())\n"
      ],
      "execution_count": 13,
      "outputs": [
        {
          "output_type": "stream",
          "text": [
            "25\n",
            "0\n"
          ],
          "name": "stdout"
        }
      ]
    },
    {
      "cell_type": "markdown",
      "metadata": {
        "id": "_JuCOv7NhUov"
      },
      "source": [
        "Datatypes of columns\n"
      ]
    },
    {
      "cell_type": "code",
      "metadata": {
        "id": "VT6G5skDi9Ju",
        "outputId": "36ec7c45-c1cf-4496-975a-5cf31a985a24",
        "colab": {
          "base_uri": "https://localhost:8080/"
        }
      },
      "source": [
        "df_08.dtypes"
      ],
      "execution_count": 14,
      "outputs": [
        {
          "output_type": "execute_result",
          "data": {
            "text/plain": [
              "Model                    object\n",
              "Displ                   float64\n",
              "Cyl                      object\n",
              "Trans                    object\n",
              "Drive                    object\n",
              "Fuel                     object\n",
              "Sales Area               object\n",
              "Stnd                     object\n",
              "Underhood ID             object\n",
              "Veh Class                object\n",
              "Air Pollution Score      object\n",
              "FE Calc Appr             object\n",
              "City MPG                 object\n",
              "Hwy MPG                  object\n",
              "Cmb MPG                  object\n",
              "Unadj Cmb MPG           float64\n",
              "Greenhouse Gas Score     object\n",
              "SmartWay                 object\n",
              "dtype: object"
            ]
          },
          "metadata": {
            "tags": []
          },
          "execution_count": 14
        }
      ]
    },
    {
      "cell_type": "code",
      "metadata": {
        "id": "ZBrbf_FHhUow",
        "outputId": "f9b29c15-fdfd-4a99-fa39-34e555699b9e"
      },
      "source": [
        "df_18.dtypes"
      ],
      "execution_count": null,
      "outputs": [
        {
          "output_type": "execute_result",
          "data": {
            "text/plain": [
              "Model                    object\n",
              "Displ                   float64\n",
              "Cyl                     float64\n",
              "Trans                    object\n",
              "Drive                    object\n",
              "Fuel                     object\n",
              "Cert Region              object\n",
              "Stnd                     object\n",
              "Stnd Description         object\n",
              "Underhood ID             object\n",
              "Veh Class                object\n",
              "Air Pollution Score       int64\n",
              "City MPG                 object\n",
              "Hwy MPG                  object\n",
              "Cmb MPG                  object\n",
              "Greenhouse Gas Score      int64\n",
              "SmartWay                 object\n",
              "Comb CO2                 object\n",
              "dtype: object"
            ]
          },
          "metadata": {
            "tags": []
          },
          "execution_count": 41
        }
      ]
    },
    {
      "cell_type": "markdown",
      "metadata": {
        "id": "16e_DC0lhUoy"
      },
      "source": [
        "Features with missing values\n"
      ]
    },
    {
      "cell_type": "code",
      "metadata": {
        "id": "wmPRK7tnhUo0",
        "outputId": "5ffa6cb6-154f-4f07-b02e-6de9a7a60f97",
        "colab": {
          "base_uri": "https://localhost:8080/"
        }
      },
      "source": [
        "df_08.isna().sum()"
      ],
      "execution_count": 17,
      "outputs": [
        {
          "output_type": "execute_result",
          "data": {
            "text/plain": [
              "Model                     0\n",
              "Displ                     0\n",
              "Cyl                     199\n",
              "Trans                   199\n",
              "Drive                    93\n",
              "Fuel                      0\n",
              "Sales Area                0\n",
              "Stnd                      0\n",
              "Underhood ID              0\n",
              "Veh Class                 0\n",
              "Air Pollution Score       0\n",
              "FE Calc Appr            199\n",
              "City MPG                199\n",
              "Hwy MPG                 199\n",
              "Cmb MPG                 199\n",
              "Unadj Cmb MPG           199\n",
              "Greenhouse Gas Score    199\n",
              "SmartWay                  0\n",
              "dtype: int64"
            ]
          },
          "metadata": {
            "tags": []
          },
          "execution_count": 17
        }
      ]
    },
    {
      "cell_type": "code",
      "metadata": {
        "id": "ZMSLQirMjOih",
        "outputId": "9003f120-1700-44e5-cb29-ff2eb80455c7",
        "colab": {
          "base_uri": "https://localhost:8080/"
        }
      },
      "source": [
        "df_18.isna().sum()"
      ],
      "execution_count": 18,
      "outputs": [
        {
          "output_type": "execute_result",
          "data": {
            "text/plain": [
              "Model                   0\n",
              "Displ                   2\n",
              "Cyl                     2\n",
              "Trans                   0\n",
              "Drive                   0\n",
              "Fuel                    0\n",
              "Cert Region             0\n",
              "Stnd                    0\n",
              "Stnd Description        0\n",
              "Underhood ID            0\n",
              "Veh Class               0\n",
              "Air Pollution Score     0\n",
              "City MPG                0\n",
              "Hwy MPG                 0\n",
              "Cmb MPG                 0\n",
              "Greenhouse Gas Score    0\n",
              "SmartWay                0\n",
              "Comb CO2                0\n",
              "dtype: int64"
            ]
          },
          "metadata": {
            "tags": []
          },
          "execution_count": 18
        }
      ]
    },
    {
      "cell_type": "markdown",
      "metadata": {
        "id": "AV03VIb7hUo1"
      },
      "source": [
        "Number of non-null unique values for features in each dataset\n"
      ]
    },
    {
      "cell_type": "code",
      "metadata": {
        "id": "7Yuu6vfYhUo2",
        "outputId": "1d4fa531-6ff1-4271-bdb2-a2c188fb51da"
      },
      "source": [
        "df_08.nunique()"
      ],
      "execution_count": null,
      "outputs": [
        {
          "output_type": "execute_result",
          "data": {
            "text/plain": [
              "Model                   436\n",
              "Displ                    47\n",
              "Cyl                       8\n",
              "Trans                    14\n",
              "Drive                     2\n",
              "Fuel                      5\n",
              "Sales Area                3\n",
              "Stnd                     12\n",
              "Underhood ID            343\n",
              "Veh Class                 9\n",
              "Air Pollution Score      13\n",
              "FE Calc Appr              2\n",
              "City MPG                 39\n",
              "Hwy MPG                  43\n",
              "Cmb MPG                  38\n",
              "Unadj Cmb MPG           721\n",
              "Greenhouse Gas Score     20\n",
              "SmartWay                  2\n",
              "dtype: int64"
            ]
          },
          "metadata": {
            "tags": []
          },
          "execution_count": 40
        }
      ]
    },
    {
      "cell_type": "code",
      "metadata": {
        "id": "qWgN3Sf0jVG9",
        "outputId": "f87e9224-4566-45ae-9a50-dee0c78741c2",
        "colab": {
          "base_uri": "https://localhost:8080/"
        }
      },
      "source": [
        "df_18.nunique()"
      ],
      "execution_count": 19,
      "outputs": [
        {
          "output_type": "execute_result",
          "data": {
            "text/plain": [
              "Model                   367\n",
              "Displ                    36\n",
              "Cyl                       7\n",
              "Trans                    26\n",
              "Drive                     2\n",
              "Fuel                      5\n",
              "Cert Region               2\n",
              "Stnd                     19\n",
              "Stnd Description         19\n",
              "Underhood ID            230\n",
              "Veh Class                 9\n",
              "Air Pollution Score       6\n",
              "City MPG                 58\n",
              "Hwy MPG                  62\n",
              "Cmb MPG                  57\n",
              "Greenhouse Gas Score     10\n",
              "SmartWay                  3\n",
              "Comb CO2                299\n",
              "dtype: int64"
            ]
          },
          "metadata": {
            "tags": []
          },
          "execution_count": 19
        }
      ]
    },
    {
      "cell_type": "markdown",
      "metadata": {
        "id": "qjRGXdbphUo4"
      },
      "source": [
        "What those unique values are and counts for each\n"
      ]
    },
    {
      "cell_type": "code",
      "metadata": {
        "id": "BSHyJ-L3l5IT",
        "outputId": "b24d1e89-bb91-40bd-e245-276abf278ee8",
        "colab": {
          "base_uri": "https://localhost:8080/"
        }
      },
      "source": [
        "df_08_uniques = df_08.nunique(axis=0)\n",
        "print('No. of unique values :', df_08_uniques)"
      ],
      "execution_count": 27,
      "outputs": [
        {
          "output_type": "stream",
          "text": [
            "No. of unique values : Model                   436\n",
            "Displ                    47\n",
            "Cyl                       8\n",
            "Trans                    14\n",
            "Drive                     2\n",
            "Fuel                      5\n",
            "Sales Area                3\n",
            "Stnd                     12\n",
            "Underhood ID            343\n",
            "Veh Class                 9\n",
            "Air Pollution Score      13\n",
            "FE Calc Appr              2\n",
            "City MPG                 39\n",
            "Hwy MPG                  43\n",
            "Cmb MPG                  38\n",
            "Unadj Cmb MPG           721\n",
            "Greenhouse Gas Score     20\n",
            "SmartWay                  2\n",
            "dtype: int64\n"
          ],
          "name": "stdout"
        }
      ]
    },
    {
      "cell_type": "code",
      "metadata": {
        "id": "rC4YC4BChUo7",
        "outputId": "0609c4c5-8d59-479a-96ba-b6554fe22323",
        "colab": {
          "base_uri": "https://localhost:8080/"
        }
      },
      "source": [
        "df_18_uniques = df_18.nunique(axis=0)\n",
        "print('No. of unique values :', df_18_uniques)"
      ],
      "execution_count": 30,
      "outputs": [
        {
          "output_type": "stream",
          "text": [
            "No. of unique values : Model                   367\n",
            "Displ                    36\n",
            "Cyl                       7\n",
            "Trans                    26\n",
            "Drive                     2\n",
            "Fuel                      5\n",
            "Cert Region               2\n",
            "Stnd                     19\n",
            "Stnd Description         19\n",
            "Underhood ID            230\n",
            "Veh Class                 9\n",
            "Air Pollution Score       6\n",
            "City MPG                 58\n",
            "Hwy MPG                  62\n",
            "Cmb MPG                  57\n",
            "Greenhouse Gas Score     10\n",
            "SmartWay                  3\n",
            "Comb CO2                299\n",
            "dtype: int64\n"
          ],
          "name": "stdout"
        }
      ]
    }
  ]
}