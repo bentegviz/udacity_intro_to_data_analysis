{
 "cells": [
  {
   "cell_type": "markdown",
   "metadata": {
    "collapsed": true
   },
   "source": [
    "# Assessing\n",
    "Use the space below to explore `all_alpha_08.csv` and `all_alpha_18.csv` to answer the quiz questions below."
   ]
  },
  {
   "cell_type": "code",
   "execution_count": 1,
   "metadata": {},
   "outputs": [
    {
     "name": "stdout",
     "output_type": "stream",
     "text": [
      "Import Libraries Complete\n"
     ]
    }
   ],
   "source": [
    "import warnings #to disable warnings\n",
    "warnings.filterwarnings('ignore') #disables warnings\n",
    "\n",
    "#import numpy as np \n",
    "import pandas as pd #for data processing\n",
    "import matplotlib.pyplot as plt #for plotting\n",
    "import seaborn as sns #for plotting\n",
    "#make plots visible inside the jupyter notebook\n",
    "%matplotlib inline \n",
    "%config InlineBackend.figure_format = 'retina'\n",
    "\n",
    "from sklearn.linear_model import LinearRegression #calc the trend-data for later plots\n",
    "#import missingno as ms #visualize missing data\n",
    "\n",
    "#improving the plot - quality (from: http://blog.rtwilson.com/how-to-get-nice-vector-graphics-in-your-exported-pdf-ipython-notebooks/)\n",
    "from IPython.display import set_matplotlib_formats \n",
    "set_matplotlib_formats('png', 'pdf')\n",
    "\n",
    "print('Import Libraries Complete')"
   ]
  },
  {
   "cell_type": "code",
   "execution_count": 2,
   "metadata": {},
   "outputs": [
    {
     "name": "stdout",
     "output_type": "stream",
     "text": [
      "Load Datasets Complete\n"
     ]
    }
   ],
   "source": [
    "#load the datasets\n",
    "df_08 = pd.read_csv(\"./all_alpha_08.csv\")\n",
    "df_18 = pd.read_csv(\"./all_alpha_18.csv\")\n",
    "\n",
    "print('Load Datasets Complete')"
   ]
  },
  {
   "cell_type": "markdown",
   "metadata": {},
   "source": [
    "*Number of samples in each dataset*"
   ]
  },
  {
   "cell_type": "code",
   "execution_count": 26,
   "metadata": {},
   "outputs": [
    {
     "data": {
      "text/plain": [
       "(1611, 18)"
      ]
     },
     "execution_count": 26,
     "metadata": {},
     "output_type": "execute_result"
    }
   ],
   "source": [
    "#df_08.shape\n",
    "df_18.shape"
   ]
  },
  {
   "cell_type": "code",
   "execution_count": 75,
   "metadata": {},
   "outputs": [
    {
     "name": "stdout",
     "output_type": "stream",
     "text": [
      "<class 'pandas.core.frame.DataFrame'>\n",
      "RangeIndex: 2404 entries, 0 to 2403\n",
      "Data columns (total 18 columns):\n",
      "Model                   2404 non-null object\n",
      "Displ                   2404 non-null float64\n",
      "Cyl                     2205 non-null object\n",
      "Trans                   2205 non-null object\n",
      "Drive                   2311 non-null object\n",
      "Fuel                    2404 non-null object\n",
      "Sales Area              2404 non-null object\n",
      "Stnd                    2404 non-null object\n",
      "Underhood ID            2404 non-null object\n",
      "Veh Class               2404 non-null object\n",
      "Air Pollution Score     2404 non-null object\n",
      "FE Calc Appr            2205 non-null object\n",
      "City MPG                2205 non-null object\n",
      "Hwy MPG                 2205 non-null object\n",
      "Cmb MPG                 2205 non-null object\n",
      "Unadj Cmb MPG           2205 non-null float64\n",
      "Greenhouse Gas Score    2205 non-null object\n",
      "SmartWay                2404 non-null object\n",
      "dtypes: float64(2), object(16)\n",
      "memory usage: 338.1+ KB\n"
     ]
    }
   ],
   "source": [
    "df_08.info()"
   ]
  },
  {
   "cell_type": "code",
   "execution_count": 62,
   "metadata": {},
   "outputs": [
    {
     "data": {
      "text/html": [
       "<div>\n",
       "<style scoped>\n",
       "    .dataframe tbody tr th:only-of-type {\n",
       "        vertical-align: middle;\n",
       "    }\n",
       "\n",
       "    .dataframe tbody tr th {\n",
       "        vertical-align: top;\n",
       "    }\n",
       "\n",
       "    .dataframe thead th {\n",
       "        text-align: right;\n",
       "    }\n",
       "</style>\n",
       "<table border=\"1\" class=\"dataframe\">\n",
       "  <thead>\n",
       "    <tr style=\"text-align: right;\">\n",
       "      <th></th>\n",
       "      <th>Model</th>\n",
       "      <th>Displ</th>\n",
       "      <th>Cyl</th>\n",
       "      <th>Trans</th>\n",
       "      <th>Drive</th>\n",
       "      <th>Fuel</th>\n",
       "      <th>Sales Area</th>\n",
       "      <th>Stnd</th>\n",
       "      <th>Underhood ID</th>\n",
       "      <th>Veh Class</th>\n",
       "      <th>Air Pollution Score</th>\n",
       "      <th>FE Calc Appr</th>\n",
       "      <th>City MPG</th>\n",
       "      <th>Hwy MPG</th>\n",
       "      <th>Cmb MPG</th>\n",
       "      <th>Unadj Cmb MPG</th>\n",
       "      <th>Greenhouse Gas Score</th>\n",
       "      <th>SmartWay</th>\n",
       "    </tr>\n",
       "  </thead>\n",
       "  <tbody>\n",
       "    <tr>\n",
       "      <th>0</th>\n",
       "      <td>ACURA MDX</td>\n",
       "      <td>3.7</td>\n",
       "      <td>(6 cyl)</td>\n",
       "      <td>Auto-S5</td>\n",
       "      <td>4WD</td>\n",
       "      <td>Gasoline</td>\n",
       "      <td>CA</td>\n",
       "      <td>U2</td>\n",
       "      <td>8HNXT03.7PKR</td>\n",
       "      <td>SUV</td>\n",
       "      <td>7</td>\n",
       "      <td>Drv</td>\n",
       "      <td>15</td>\n",
       "      <td>20</td>\n",
       "      <td>17</td>\n",
       "      <td>22.0527</td>\n",
       "      <td>4</td>\n",
       "      <td>no</td>\n",
       "    </tr>\n",
       "    <tr>\n",
       "      <th>1</th>\n",
       "      <td>ACURA MDX</td>\n",
       "      <td>3.7</td>\n",
       "      <td>(6 cyl)</td>\n",
       "      <td>Auto-S5</td>\n",
       "      <td>4WD</td>\n",
       "      <td>Gasoline</td>\n",
       "      <td>FA</td>\n",
       "      <td>B5</td>\n",
       "      <td>8HNXT03.7PKR</td>\n",
       "      <td>SUV</td>\n",
       "      <td>6</td>\n",
       "      <td>Drv</td>\n",
       "      <td>15</td>\n",
       "      <td>20</td>\n",
       "      <td>17</td>\n",
       "      <td>22.0527</td>\n",
       "      <td>4</td>\n",
       "      <td>no</td>\n",
       "    </tr>\n",
       "    <tr>\n",
       "      <th>2</th>\n",
       "      <td>ACURA RDX</td>\n",
       "      <td>2.3</td>\n",
       "      <td>(4 cyl)</td>\n",
       "      <td>Auto-S5</td>\n",
       "      <td>4WD</td>\n",
       "      <td>Gasoline</td>\n",
       "      <td>CA</td>\n",
       "      <td>U2</td>\n",
       "      <td>8HNXT02.3DKR</td>\n",
       "      <td>SUV</td>\n",
       "      <td>7</td>\n",
       "      <td>Drv</td>\n",
       "      <td>17</td>\n",
       "      <td>22</td>\n",
       "      <td>19</td>\n",
       "      <td>24.1745</td>\n",
       "      <td>5</td>\n",
       "      <td>no</td>\n",
       "    </tr>\n",
       "    <tr>\n",
       "      <th>3</th>\n",
       "      <td>ACURA RDX</td>\n",
       "      <td>2.3</td>\n",
       "      <td>(4 cyl)</td>\n",
       "      <td>Auto-S5</td>\n",
       "      <td>4WD</td>\n",
       "      <td>Gasoline</td>\n",
       "      <td>FA</td>\n",
       "      <td>B5</td>\n",
       "      <td>8HNXT02.3DKR</td>\n",
       "      <td>SUV</td>\n",
       "      <td>6</td>\n",
       "      <td>Drv</td>\n",
       "      <td>17</td>\n",
       "      <td>22</td>\n",
       "      <td>19</td>\n",
       "      <td>24.1745</td>\n",
       "      <td>5</td>\n",
       "      <td>no</td>\n",
       "    </tr>\n",
       "    <tr>\n",
       "      <th>4</th>\n",
       "      <td>ACURA RL</td>\n",
       "      <td>3.5</td>\n",
       "      <td>(6 cyl)</td>\n",
       "      <td>Auto-S5</td>\n",
       "      <td>4WD</td>\n",
       "      <td>Gasoline</td>\n",
       "      <td>CA</td>\n",
       "      <td>U2</td>\n",
       "      <td>8HNXV03.5HKR</td>\n",
       "      <td>midsize car</td>\n",
       "      <td>7</td>\n",
       "      <td>Drv</td>\n",
       "      <td>16</td>\n",
       "      <td>24</td>\n",
       "      <td>19</td>\n",
       "      <td>24.5629</td>\n",
       "      <td>5</td>\n",
       "      <td>no</td>\n",
       "    </tr>\n",
       "  </tbody>\n",
       "</table>\n",
       "</div>"
      ],
      "text/plain": [
       "       Model  Displ      Cyl    Trans Drive      Fuel Sales Area Stnd  \\\n",
       "0  ACURA MDX    3.7  (6 cyl)  Auto-S5   4WD  Gasoline         CA   U2   \n",
       "1  ACURA MDX    3.7  (6 cyl)  Auto-S5   4WD  Gasoline         FA   B5   \n",
       "2  ACURA RDX    2.3  (4 cyl)  Auto-S5   4WD  Gasoline         CA   U2   \n",
       "3  ACURA RDX    2.3  (4 cyl)  Auto-S5   4WD  Gasoline         FA   B5   \n",
       "4   ACURA RL    3.5  (6 cyl)  Auto-S5   4WD  Gasoline         CA   U2   \n",
       "\n",
       "   Underhood ID    Veh Class Air Pollution Score FE Calc Appr City MPG  \\\n",
       "0  8HNXT03.7PKR          SUV                   7          Drv       15   \n",
       "1  8HNXT03.7PKR          SUV                   6          Drv       15   \n",
       "2  8HNXT02.3DKR          SUV                   7          Drv       17   \n",
       "3  8HNXT02.3DKR          SUV                   6          Drv       17   \n",
       "4  8HNXV03.5HKR  midsize car                   7          Drv       16   \n",
       "\n",
       "  Hwy MPG Cmb MPG  Unadj Cmb MPG Greenhouse Gas Score SmartWay  \n",
       "0      20      17        22.0527                    4       no  \n",
       "1      20      17        22.0527                    4       no  \n",
       "2      22      19        24.1745                    5       no  \n",
       "3      22      19        24.1745                    5       no  \n",
       "4      24      19        24.5629                    5       no  "
      ]
     },
     "execution_count": 62,
     "metadata": {},
     "output_type": "execute_result"
    }
   ],
   "source": [
    "df_08.head()"
   ]
  },
  {
   "cell_type": "code",
   "execution_count": 80,
   "metadata": {},
   "outputs": [
    {
     "data": {
      "text/plain": [
       "array(['Gasoline', 'ethanol/gas', 'ethanol', 'diesel', 'CNG'], dtype=object)"
      ]
     },
     "execution_count": 80,
     "metadata": {},
     "output_type": "execute_result"
    }
   ],
   "source": [
    "df_08['Fuel'].unique()\n",
    "#df_18['Fuel'].unique()\n"
   ]
  },
  {
   "cell_type": "markdown",
   "metadata": {},
   "source": [
    "2404 rows in df_08 - 1611 rows in df_18"
   ]
  },
  {
   "cell_type": "markdown",
   "metadata": {},
   "source": [
    "Number of columns in each dataset\n"
   ]
  },
  {
   "cell_type": "code",
   "execution_count": 47,
   "metadata": {},
   "outputs": [
    {
     "data": {
      "text/plain": [
       "Index(['Model', 'Displ', 'Cyl', 'Trans', 'Drive', 'Fuel', 'Cert Region',\n",
       "       'Stnd', 'Stnd Description', 'Underhood ID', 'Veh Class',\n",
       "       'Air Pollution Score', 'City MPG', 'Hwy MPG', 'Cmb MPG',\n",
       "       'Greenhouse Gas Score', 'SmartWay', 'Comb CO2'],\n",
       "      dtype='object')"
      ]
     },
     "execution_count": 47,
     "metadata": {},
     "output_type": "execute_result"
    }
   ],
   "source": [
    "#df_08.info\n",
    "df_18.columns"
   ]
  },
  {
   "cell_type": "markdown",
   "metadata": {},
   "source": [
    "Duplicate rows in each dataset\n"
   ]
  },
  {
   "cell_type": "code",
   "execution_count": 28,
   "metadata": {},
   "outputs": [
    {
     "data": {
      "text/plain": [
       "0"
      ]
     },
     "execution_count": 28,
     "metadata": {},
     "output_type": "execute_result"
    }
   ],
   "source": [
    "#df_08.duplicated().sum()\n",
    "df_18.duplicated().sum()\n"
   ]
  },
  {
   "cell_type": "markdown",
   "metadata": {},
   "source": [
    "Datatypes of columns\n"
   ]
  },
  {
   "cell_type": "code",
   "execution_count": 41,
   "metadata": {},
   "outputs": [
    {
     "data": {
      "text/plain": [
       "Model                    object\n",
       "Displ                   float64\n",
       "Cyl                     float64\n",
       "Trans                    object\n",
       "Drive                    object\n",
       "Fuel                     object\n",
       "Cert Region              object\n",
       "Stnd                     object\n",
       "Stnd Description         object\n",
       "Underhood ID             object\n",
       "Veh Class                object\n",
       "Air Pollution Score       int64\n",
       "City MPG                 object\n",
       "Hwy MPG                  object\n",
       "Cmb MPG                  object\n",
       "Greenhouse Gas Score      int64\n",
       "SmartWay                 object\n",
       "Comb CO2                 object\n",
       "dtype: object"
      ]
     },
     "execution_count": 41,
     "metadata": {},
     "output_type": "execute_result"
    }
   ],
   "source": [
    "#df_08.dtypes\n",
    "df_18.dtypes"
   ]
  },
  {
   "cell_type": "markdown",
   "metadata": {},
   "source": [
    "Features with missing values\n"
   ]
  },
  {
   "cell_type": "code",
   "execution_count": 30,
   "metadata": {},
   "outputs": [
    {
     "data": {
      "text/plain": [
       "Model                   0\n",
       "Displ                   2\n",
       "Cyl                     2\n",
       "Trans                   0\n",
       "Drive                   0\n",
       "Fuel                    0\n",
       "Cert Region             0\n",
       "Stnd                    0\n",
       "Stnd Description        0\n",
       "Underhood ID            0\n",
       "Veh Class               0\n",
       "Air Pollution Score     0\n",
       "City MPG                0\n",
       "Hwy MPG                 0\n",
       "Cmb MPG                 0\n",
       "Greenhouse Gas Score    0\n",
       "SmartWay                0\n",
       "Comb CO2                0\n",
       "dtype: int64"
      ]
     },
     "execution_count": 30,
     "metadata": {},
     "output_type": "execute_result"
    }
   ],
   "source": [
    "#df_08.isna().sum()\n",
    "df_18.isna().sum()"
   ]
  },
  {
   "cell_type": "markdown",
   "metadata": {},
   "source": [
    "Number of non-null unique values for features in each dataset\n"
   ]
  },
  {
   "cell_type": "code",
   "execution_count": 40,
   "metadata": {},
   "outputs": [
    {
     "data": {
      "text/plain": [
       "Model                   436\n",
       "Displ                    47\n",
       "Cyl                       8\n",
       "Trans                    14\n",
       "Drive                     2\n",
       "Fuel                      5\n",
       "Sales Area                3\n",
       "Stnd                     12\n",
       "Underhood ID            343\n",
       "Veh Class                 9\n",
       "Air Pollution Score      13\n",
       "FE Calc Appr              2\n",
       "City MPG                 39\n",
       "Hwy MPG                  43\n",
       "Cmb MPG                  38\n",
       "Unadj Cmb MPG           721\n",
       "Greenhouse Gas Score     20\n",
       "SmartWay                  2\n",
       "dtype: int64"
      ]
     },
     "execution_count": 40,
     "metadata": {},
     "output_type": "execute_result"
    }
   ],
   "source": [
    "df_08.nunique()\n",
    "#df_18.nunique()"
   ]
  },
  {
   "cell_type": "markdown",
   "metadata": {},
   "source": [
    "What those unique values are and counts for each\n"
   ]
  },
  {
   "cell_type": "code",
   "execution_count": 42,
   "metadata": {},
   "outputs": [
    {
     "data": {
      "text/plain": [
       "1757"
      ]
     },
     "execution_count": 42,
     "metadata": {},
     "output_type": "execute_result"
    }
   ],
   "source": []
  }
 ],
 "metadata": {
  "kernelspec": {
   "display_name": "Python 3",
   "language": "python",
   "name": "python3"
  },
  "language_info": {
   "codemirror_mode": {
    "name": "ipython",
    "version": 3
   },
   "file_extension": ".py",
   "mimetype": "text/x-python",
   "name": "python",
   "nbconvert_exporter": "python",
   "pygments_lexer": "ipython3",
   "version": "3.6.3"
  }
 },
 "nbformat": 4,
 "nbformat_minor": 2
}
