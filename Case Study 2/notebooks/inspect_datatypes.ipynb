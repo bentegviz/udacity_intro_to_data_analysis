{
  "nbformat": 4,
  "nbformat_minor": 0,
  "metadata": {
    "kernelspec": {
      "display_name": "Python 3",
      "language": "python",
      "name": "python3"
    },
    "language_info": {
      "codemirror_mode": {
        "name": "ipython",
        "version": 3
      },
      "file_extension": ".py",
      "mimetype": "text/x-python",
      "name": "python",
      "nbconvert_exporter": "python",
      "pygments_lexer": "ipython3",
      "version": "3.6.3"
    },
    "colab": {
      "name": "inspect_datatypes.ipynb",
      "provenance": []
    }
  },
  "cells": [
    {
      "cell_type": "markdown",
      "metadata": {
        "collapsed": true,
        "id": "aTGU7zflmqWy"
      },
      "source": [
        "# Inspecting Data Types\n",
        "Use the space below to explore `data_08_v2.csv` and `data_18_v2.csv` to answer the quiz questions below regarding datatypes. You should've created these data files in the previous section: *Filter, Drop Nulls, Dedupe*."
      ]
    },
    {
      "cell_type": "code",
      "metadata": {
        "id": "O_ZRY4comqW9"
      },
      "source": [
        "import pandas as pd"
      ],
      "execution_count": 1,
      "outputs": []
    },
    {
      "cell_type": "code",
      "metadata": {
        "id": "BbWY3KQOmuWB"
      },
      "source": [
        "# dataset url\n",
        "url_08 = ('https://raw.githubusercontent.com/bentegviz/udacity_intro_to_data_analysis/main/Case%20Study%202/data/processed/all_alpha_08.csv')\n",
        "url_18 = ('https://raw.githubusercontent.com/bentegviz/udacity_intro_to_data_analysis/main/Case%20Study%202/data/processed/all_alpha_18.csv')"
      ],
      "execution_count": 25,
      "outputs": []
    },
    {
      "cell_type": "code",
      "metadata": {
        "id": "07PKauCnmqXA",
        "outputId": "695f6f7c-c80c-4d94-dbd9-c5d8561ecb4f",
        "colab": {
          "base_uri": "https://localhost:8080/"
        }
      },
      "source": [
        "# csv to dataset\n",
        "df_08 = pd.read_csv(url_08)\n",
        "df_18 = pd.read_csv(url_18)\n",
        "print('Load CSV Complete')"
      ],
      "execution_count": 26,
      "outputs": [
        {
          "output_type": "stream",
          "text": [
            "Load CSV Complete\n"
          ],
          "name": "stdout"
        }
      ]
    },
    {
      "cell_type": "code",
      "metadata": {
        "id": "f__ZH_JCmqXF",
        "outputId": "4c9719cd-2fbf-4f25-bf47-11b88a46f2f5",
        "colab": {
          "base_uri": "https://localhost:8080/",
          "height": 348
        }
      },
      "source": [
        "df_08.head()"
      ],
      "execution_count": 27,
      "outputs": [
        {
          "output_type": "execute_result",
          "data": {
            "text/html": [
              "<div>\n",
              "<style scoped>\n",
              "    .dataframe tbody tr th:only-of-type {\n",
              "        vertical-align: middle;\n",
              "    }\n",
              "\n",
              "    .dataframe tbody tr th {\n",
              "        vertical-align: top;\n",
              "    }\n",
              "\n",
              "    .dataframe thead th {\n",
              "        text-align: right;\n",
              "    }\n",
              "</style>\n",
              "<table border=\"1\" class=\"dataframe\">\n",
              "  <thead>\n",
              "    <tr style=\"text-align: right;\">\n",
              "      <th></th>\n",
              "      <th>Model</th>\n",
              "      <th>Displ</th>\n",
              "      <th>Cyl</th>\n",
              "      <th>Trans</th>\n",
              "      <th>Drive</th>\n",
              "      <th>Fuel</th>\n",
              "      <th>Sales Area</th>\n",
              "      <th>Stnd</th>\n",
              "      <th>Underhood ID</th>\n",
              "      <th>Veh Class</th>\n",
              "      <th>Air Pollution Score</th>\n",
              "      <th>FE Calc Appr</th>\n",
              "      <th>City MPG</th>\n",
              "      <th>Hwy MPG</th>\n",
              "      <th>Cmb MPG</th>\n",
              "      <th>Unadj Cmb MPG</th>\n",
              "      <th>Greenhouse Gas Score</th>\n",
              "      <th>SmartWay</th>\n",
              "    </tr>\n",
              "  </thead>\n",
              "  <tbody>\n",
              "    <tr>\n",
              "      <th>0</th>\n",
              "      <td>ACURA MDX</td>\n",
              "      <td>3.7</td>\n",
              "      <td>(6 cyl)</td>\n",
              "      <td>Auto-S5</td>\n",
              "      <td>4WD</td>\n",
              "      <td>Gasoline</td>\n",
              "      <td>CA</td>\n",
              "      <td>U2</td>\n",
              "      <td>8HNXT03.7PKR</td>\n",
              "      <td>SUV</td>\n",
              "      <td>7</td>\n",
              "      <td>Drv</td>\n",
              "      <td>15</td>\n",
              "      <td>20</td>\n",
              "      <td>17</td>\n",
              "      <td>22.0527</td>\n",
              "      <td>4</td>\n",
              "      <td>no</td>\n",
              "    </tr>\n",
              "    <tr>\n",
              "      <th>1</th>\n",
              "      <td>ACURA MDX</td>\n",
              "      <td>3.7</td>\n",
              "      <td>(6 cyl)</td>\n",
              "      <td>Auto-S5</td>\n",
              "      <td>4WD</td>\n",
              "      <td>Gasoline</td>\n",
              "      <td>FA</td>\n",
              "      <td>B5</td>\n",
              "      <td>8HNXT03.7PKR</td>\n",
              "      <td>SUV</td>\n",
              "      <td>6</td>\n",
              "      <td>Drv</td>\n",
              "      <td>15</td>\n",
              "      <td>20</td>\n",
              "      <td>17</td>\n",
              "      <td>22.0527</td>\n",
              "      <td>4</td>\n",
              "      <td>no</td>\n",
              "    </tr>\n",
              "    <tr>\n",
              "      <th>2</th>\n",
              "      <td>ACURA RDX</td>\n",
              "      <td>2.3</td>\n",
              "      <td>(4 cyl)</td>\n",
              "      <td>Auto-S5</td>\n",
              "      <td>4WD</td>\n",
              "      <td>Gasoline</td>\n",
              "      <td>CA</td>\n",
              "      <td>U2</td>\n",
              "      <td>8HNXT02.3DKR</td>\n",
              "      <td>SUV</td>\n",
              "      <td>7</td>\n",
              "      <td>Drv</td>\n",
              "      <td>17</td>\n",
              "      <td>22</td>\n",
              "      <td>19</td>\n",
              "      <td>24.1745</td>\n",
              "      <td>5</td>\n",
              "      <td>no</td>\n",
              "    </tr>\n",
              "    <tr>\n",
              "      <th>3</th>\n",
              "      <td>ACURA RDX</td>\n",
              "      <td>2.3</td>\n",
              "      <td>(4 cyl)</td>\n",
              "      <td>Auto-S5</td>\n",
              "      <td>4WD</td>\n",
              "      <td>Gasoline</td>\n",
              "      <td>FA</td>\n",
              "      <td>B5</td>\n",
              "      <td>8HNXT02.3DKR</td>\n",
              "      <td>SUV</td>\n",
              "      <td>6</td>\n",
              "      <td>Drv</td>\n",
              "      <td>17</td>\n",
              "      <td>22</td>\n",
              "      <td>19</td>\n",
              "      <td>24.1745</td>\n",
              "      <td>5</td>\n",
              "      <td>no</td>\n",
              "    </tr>\n",
              "    <tr>\n",
              "      <th>4</th>\n",
              "      <td>ACURA RL</td>\n",
              "      <td>3.5</td>\n",
              "      <td>(6 cyl)</td>\n",
              "      <td>Auto-S5</td>\n",
              "      <td>4WD</td>\n",
              "      <td>Gasoline</td>\n",
              "      <td>CA</td>\n",
              "      <td>U2</td>\n",
              "      <td>8HNXV03.5HKR</td>\n",
              "      <td>midsize car</td>\n",
              "      <td>7</td>\n",
              "      <td>Drv</td>\n",
              "      <td>16</td>\n",
              "      <td>24</td>\n",
              "      <td>19</td>\n",
              "      <td>24.5629</td>\n",
              "      <td>5</td>\n",
              "      <td>no</td>\n",
              "    </tr>\n",
              "  </tbody>\n",
              "</table>\n",
              "</div>"
            ],
            "text/plain": [
              "       Model  Displ      Cyl  ... Unadj Cmb MPG Greenhouse Gas Score SmartWay\n",
              "0  ACURA MDX    3.7  (6 cyl)  ...       22.0527                    4       no\n",
              "1  ACURA MDX    3.7  (6 cyl)  ...       22.0527                    4       no\n",
              "2  ACURA RDX    2.3  (4 cyl)  ...       24.1745                    5       no\n",
              "3  ACURA RDX    2.3  (4 cyl)  ...       24.1745                    5       no\n",
              "4   ACURA RL    3.5  (6 cyl)  ...       24.5629                    5       no\n",
              "\n",
              "[5 rows x 18 columns]"
            ]
          },
          "metadata": {
            "tags": []
          },
          "execution_count": 27
        }
      ]
    },
    {
      "cell_type": "code",
      "metadata": {
        "id": "bYWUKCyimqXH",
        "outputId": "98b7ad44-06cb-45d8-9162-407e7721c24a",
        "colab": {
          "base_uri": "https://localhost:8080/",
          "height": 365
        }
      },
      "source": [
        "df_18.head()"
      ],
      "execution_count": 28,
      "outputs": [
        {
          "output_type": "execute_result",
          "data": {
            "text/html": [
              "<div>\n",
              "<style scoped>\n",
              "    .dataframe tbody tr th:only-of-type {\n",
              "        vertical-align: middle;\n",
              "    }\n",
              "\n",
              "    .dataframe tbody tr th {\n",
              "        vertical-align: top;\n",
              "    }\n",
              "\n",
              "    .dataframe thead th {\n",
              "        text-align: right;\n",
              "    }\n",
              "</style>\n",
              "<table border=\"1\" class=\"dataframe\">\n",
              "  <thead>\n",
              "    <tr style=\"text-align: right;\">\n",
              "      <th></th>\n",
              "      <th>Model</th>\n",
              "      <th>Displ</th>\n",
              "      <th>Cyl</th>\n",
              "      <th>Trans</th>\n",
              "      <th>Drive</th>\n",
              "      <th>Fuel</th>\n",
              "      <th>Cert Region</th>\n",
              "      <th>Stnd</th>\n",
              "      <th>Stnd Description</th>\n",
              "      <th>Underhood ID</th>\n",
              "      <th>Veh Class</th>\n",
              "      <th>Air Pollution Score</th>\n",
              "      <th>City MPG</th>\n",
              "      <th>Hwy MPG</th>\n",
              "      <th>Cmb MPG</th>\n",
              "      <th>Greenhouse Gas Score</th>\n",
              "      <th>SmartWay</th>\n",
              "      <th>Comb CO2</th>\n",
              "    </tr>\n",
              "  </thead>\n",
              "  <tbody>\n",
              "    <tr>\n",
              "      <th>0</th>\n",
              "      <td>ACURA RDX</td>\n",
              "      <td>3.5</td>\n",
              "      <td>6.0</td>\n",
              "      <td>SemiAuto-6</td>\n",
              "      <td>2WD</td>\n",
              "      <td>Gasoline</td>\n",
              "      <td>FA</td>\n",
              "      <td>T3B125</td>\n",
              "      <td>Federal Tier 3 Bin 125</td>\n",
              "      <td>JHNXT03.5GV3</td>\n",
              "      <td>small SUV</td>\n",
              "      <td>3</td>\n",
              "      <td>20</td>\n",
              "      <td>28</td>\n",
              "      <td>23</td>\n",
              "      <td>5</td>\n",
              "      <td>No</td>\n",
              "      <td>386</td>\n",
              "    </tr>\n",
              "    <tr>\n",
              "      <th>1</th>\n",
              "      <td>ACURA RDX</td>\n",
              "      <td>3.5</td>\n",
              "      <td>6.0</td>\n",
              "      <td>SemiAuto-6</td>\n",
              "      <td>2WD</td>\n",
              "      <td>Gasoline</td>\n",
              "      <td>CA</td>\n",
              "      <td>U2</td>\n",
              "      <td>California LEV-II ULEV</td>\n",
              "      <td>JHNXT03.5GV3</td>\n",
              "      <td>small SUV</td>\n",
              "      <td>3</td>\n",
              "      <td>20</td>\n",
              "      <td>28</td>\n",
              "      <td>23</td>\n",
              "      <td>5</td>\n",
              "      <td>No</td>\n",
              "      <td>386</td>\n",
              "    </tr>\n",
              "    <tr>\n",
              "      <th>2</th>\n",
              "      <td>ACURA RDX</td>\n",
              "      <td>3.5</td>\n",
              "      <td>6.0</td>\n",
              "      <td>SemiAuto-6</td>\n",
              "      <td>4WD</td>\n",
              "      <td>Gasoline</td>\n",
              "      <td>FA</td>\n",
              "      <td>T3B125</td>\n",
              "      <td>Federal Tier 3 Bin 125</td>\n",
              "      <td>JHNXT03.5GV3</td>\n",
              "      <td>small SUV</td>\n",
              "      <td>3</td>\n",
              "      <td>19</td>\n",
              "      <td>27</td>\n",
              "      <td>22</td>\n",
              "      <td>4</td>\n",
              "      <td>No</td>\n",
              "      <td>402</td>\n",
              "    </tr>\n",
              "    <tr>\n",
              "      <th>3</th>\n",
              "      <td>ACURA RDX</td>\n",
              "      <td>3.5</td>\n",
              "      <td>6.0</td>\n",
              "      <td>SemiAuto-6</td>\n",
              "      <td>4WD</td>\n",
              "      <td>Gasoline</td>\n",
              "      <td>CA</td>\n",
              "      <td>U2</td>\n",
              "      <td>California LEV-II ULEV</td>\n",
              "      <td>JHNXT03.5GV3</td>\n",
              "      <td>small SUV</td>\n",
              "      <td>3</td>\n",
              "      <td>19</td>\n",
              "      <td>27</td>\n",
              "      <td>22</td>\n",
              "      <td>4</td>\n",
              "      <td>No</td>\n",
              "      <td>402</td>\n",
              "    </tr>\n",
              "    <tr>\n",
              "      <th>4</th>\n",
              "      <td>ACURA TLX</td>\n",
              "      <td>2.4</td>\n",
              "      <td>4.0</td>\n",
              "      <td>AMS-8</td>\n",
              "      <td>2WD</td>\n",
              "      <td>Gasoline</td>\n",
              "      <td>CA</td>\n",
              "      <td>L3ULEV125</td>\n",
              "      <td>California LEV-III ULEV125</td>\n",
              "      <td>JHNXV02.4WH3</td>\n",
              "      <td>small car</td>\n",
              "      <td>3</td>\n",
              "      <td>23</td>\n",
              "      <td>33</td>\n",
              "      <td>27</td>\n",
              "      <td>6</td>\n",
              "      <td>No</td>\n",
              "      <td>330</td>\n",
              "    </tr>\n",
              "  </tbody>\n",
              "</table>\n",
              "</div>"
            ],
            "text/plain": [
              "       Model  Displ  Cyl  ... Greenhouse Gas Score SmartWay Comb CO2\n",
              "0  ACURA RDX    3.5  6.0  ...                    5       No      386\n",
              "1  ACURA RDX    3.5  6.0  ...                    5       No      386\n",
              "2  ACURA RDX    3.5  6.0  ...                    4       No      402\n",
              "3  ACURA RDX    3.5  6.0  ...                    4       No      402\n",
              "4  ACURA TLX    2.4  4.0  ...                    6       No      330\n",
              "\n",
              "[5 rows x 18 columns]"
            ]
          },
          "metadata": {
            "tags": []
          },
          "execution_count": 28
        }
      ]
    },
    {
      "cell_type": "code",
      "metadata": {
        "id": "qkCY3VxYmqXJ",
        "outputId": "043d3270-dc29-4ebc-b879-d049b84abd66",
        "colab": {
          "base_uri": "https://localhost:8080/"
        }
      },
      "source": [
        "df_08.columns"
      ],
      "execution_count": 29,
      "outputs": [
        {
          "output_type": "execute_result",
          "data": {
            "text/plain": [
              "Index(['Model', 'Displ', 'Cyl', 'Trans', 'Drive', 'Fuel', 'Sales Area', 'Stnd',\n",
              "       'Underhood ID', 'Veh Class', 'Air Pollution Score', 'FE Calc Appr',\n",
              "       'City MPG', 'Hwy MPG', 'Cmb MPG', 'Unadj Cmb MPG',\n",
              "       'Greenhouse Gas Score', 'SmartWay'],\n",
              "      dtype='object')"
            ]
          },
          "metadata": {
            "tags": []
          },
          "execution_count": 29
        }
      ]
    },
    {
      "cell_type": "code",
      "metadata": {
        "id": "8mqzbPm_mqXN",
        "outputId": "c5967256-8900-43e2-9eab-dab2232dd4bd",
        "colab": {
          "base_uri": "https://localhost:8080/"
        }
      },
      "source": [
        "df_18.columns"
      ],
      "execution_count": 30,
      "outputs": [
        {
          "output_type": "execute_result",
          "data": {
            "text/plain": [
              "Index(['Model', 'Displ', 'Cyl', 'Trans', 'Drive', 'Fuel', 'Cert Region',\n",
              "       'Stnd', 'Stnd Description', 'Underhood ID', 'Veh Class',\n",
              "       'Air Pollution Score', 'City MPG', 'Hwy MPG', 'Cmb MPG',\n",
              "       'Greenhouse Gas Score', 'SmartWay', 'Comb CO2'],\n",
              "      dtype='object')"
            ]
          },
          "metadata": {
            "tags": []
          },
          "execution_count": 30
        }
      ]
    },
    {
      "cell_type": "markdown",
      "metadata": {
        "id": "_71TIkixojiu"
      },
      "source": [
        "Datatypes for Cyl"
      ]
    },
    {
      "cell_type": "code",
      "metadata": {
        "id": "52MyQBHPmqXO",
        "outputId": "68e7b7ad-635d-42c7-9c42-fdcf9a3b19d6",
        "colab": {
          "base_uri": "https://localhost:8080/"
        }
      },
      "source": [
        "print(df_08['Cyl'].dtypes)"
      ],
      "execution_count": 32,
      "outputs": [
        {
          "output_type": "stream",
          "text": [
            "object\n"
          ],
          "name": "stdout"
        }
      ]
    },
    {
      "cell_type": "code",
      "metadata": {
        "id": "FQ9J71TvmqXP",
        "outputId": "14a25055-cc05-4199-9ab6-91879cce2b94",
        "colab": {
          "base_uri": "https://localhost:8080/"
        }
      },
      "source": [
        "print(df_18['Cyl'].dtypes)"
      ],
      "execution_count": 33,
      "outputs": [
        {
          "output_type": "stream",
          "text": [
            "float64\n"
          ],
          "name": "stdout"
        }
      ]
    },
    {
      "cell_type": "markdown",
      "metadata": {
        "id": "4nhO4y6UopfP"
      },
      "source": [
        "Datatypes for Air Pollution Score"
      ]
    },
    {
      "cell_type": "code",
      "metadata": {
        "id": "1PVfZB5uotLB",
        "outputId": "99d167b1-bfb6-49a0-b48b-b2a551032231",
        "colab": {
          "base_uri": "https://localhost:8080/"
        }
      },
      "source": [
        "print(df_08['Air Pollution Score'].dtypes)\n",
        "print(df_08['Air Pollution Score'].dtypes)"
      ],
      "execution_count": 34,
      "outputs": [
        {
          "output_type": "stream",
          "text": [
            "object\n",
            "object\n"
          ],
          "name": "stdout"
        }
      ]
    },
    {
      "cell_type": "markdown",
      "metadata": {
        "id": "8HSZy_XRp_pQ"
      },
      "source": [
        "MPG Datatypes"
      ]
    },
    {
      "cell_type": "code",
      "metadata": {
        "id": "tufdFJrCpf-A",
        "outputId": "757c88ab-94fb-4404-81f3-aa1a29f941c6",
        "colab": {
          "base_uri": "https://localhost:8080/"
        }
      },
      "source": [
        "df_08.dtypes"
      ],
      "execution_count": 38,
      "outputs": [
        {
          "output_type": "execute_result",
          "data": {
            "text/plain": [
              "Model                    object\n",
              "Displ                   float64\n",
              "Cyl                      object\n",
              "Trans                    object\n",
              "Drive                    object\n",
              "Fuel                     object\n",
              "Sales Area               object\n",
              "Stnd                     object\n",
              "Underhood ID             object\n",
              "Veh Class                object\n",
              "Air Pollution Score      object\n",
              "FE Calc Appr             object\n",
              "City MPG                 object\n",
              "Hwy MPG                  object\n",
              "Cmb MPG                  object\n",
              "Unadj Cmb MPG           float64\n",
              "Greenhouse Gas Score     object\n",
              "SmartWay                 object\n",
              "dtype: object"
            ]
          },
          "metadata": {
            "tags": []
          },
          "execution_count": 38
        }
      ]
    },
    {
      "cell_type": "code",
      "metadata": {
        "id": "-7YgbmjNp5Nn",
        "outputId": "8d337ffb-edea-4e24-ff15-8cf26595ce45",
        "colab": {
          "base_uri": "https://localhost:8080/"
        }
      },
      "source": [
        "df_18.dtypes"
      ],
      "execution_count": 39,
      "outputs": [
        {
          "output_type": "execute_result",
          "data": {
            "text/plain": [
              "Model                    object\n",
              "Displ                   float64\n",
              "Cyl                     float64\n",
              "Trans                    object\n",
              "Drive                    object\n",
              "Fuel                     object\n",
              "Cert Region              object\n",
              "Stnd                     object\n",
              "Stnd Description         object\n",
              "Underhood ID             object\n",
              "Veh Class                object\n",
              "Air Pollution Score       int64\n",
              "City MPG                 object\n",
              "Hwy MPG                  object\n",
              "Cmb MPG                  object\n",
              "Greenhouse Gas Score      int64\n",
              "SmartWay                 object\n",
              "Comb CO2                 object\n",
              "dtype: object"
            ]
          },
          "metadata": {
            "tags": []
          },
          "execution_count": 39
        }
      ]
    },
    {
      "cell_type": "markdown",
      "metadata": {
        "id": "R63LS1G9qLew"
      },
      "source": [
        "2008 Greehouse Gas Score is String  \n",
        "2018 Greehouse Gas Score is Int"
      ]
    },
    {
      "cell_type": "code",
      "metadata": {
        "id": "ZdjmywW7qGaP"
      },
      "source": [
        ""
      ],
      "execution_count": null,
      "outputs": []
    }
  ]
}